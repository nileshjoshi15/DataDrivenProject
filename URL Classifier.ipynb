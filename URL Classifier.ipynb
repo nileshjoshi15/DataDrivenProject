{
 "cells": [
  {
   "cell_type": "code",
   "execution_count": 1,
   "metadata": {},
   "outputs": [],
   "source": [
    "import pandas as pd\n",
    "import numpy as np\n",
    "import random\n",
    "import matplotlib.pyplot as plt\n",
    "import seaborn as sns\n",
    "import ipaddress as ip\n",
    "import tldextract\n",
    "import pickle as pkl\n",
    "import sklearn.ensemble as ensembleLearning\n",
    "import sklearn\n",
    "import re\n",
    "\n",
    "from sklearn.metrics import f1_score, precision_score, recall_score, accuracy_score\n",
    "from sklearn.metrics import confusion_matrix\n",
    "from sklearn import svm\n",
    "from sklearn import linear_model\n",
    "from sklearn import tree\n",
    "from sklearn.naive_bayes import GaussianNB\n",
    "from sklearn.linear_model import LogisticRegression\n",
    "from sklearn.model_selection import GridSearchCV, RandomizedSearchCV\n",
    "from sklearn.model_selection import train_test_split\n",
    "from sklearn.feature_extraction.text import TfidfVectorizer\n",
    "from sklearn.feature_extraction.text import CountVectorizer\n",
    "from sklearn.pipeline import Pipeline\n",
    "from sklearn.base import BaseEstimator, TransformerMixin\n",
    "from sklearn.pipeline import FeatureUnion\n",
    "from sklearn.decomposition import TruncatedSVD\n",
    "from sklearn.feature_extraction import DictVectorizer\n",
    "from sklearn.svm import SVC\n",
    "from sklearn.metrics import classification_report\n",
    "\n",
    "from urllib.parse import urlparse\n",
    "from __future__ import division\n",
    "from scipy import stats\n",
    "from sklearn_pandas import DataFrameMapper"
   ]
  },
  {
   "cell_type": "code",
   "execution_count": 2,
   "metadata": {},
   "outputs": [
    {
     "data": {
      "text/html": [
       "<div>\n",
       "<style>\n",
       "    .dataframe thead tr:only-child th {\n",
       "        text-align: right;\n",
       "    }\n",
       "\n",
       "    .dataframe thead th {\n",
       "        text-align: left;\n",
       "    }\n",
       "\n",
       "    .dataframe tbody tr th {\n",
       "        vertical-align: top;\n",
       "    }\n",
       "</style>\n",
       "<table border=\"1\" class=\"dataframe\">\n",
       "  <thead>\n",
       "    <tr style=\"text-align: right;\">\n",
       "      <th></th>\n",
       "      <th>domain</th>\n",
       "      <th>label</th>\n",
       "    </tr>\n",
       "  </thead>\n",
       "  <tbody>\n",
       "    <tr>\n",
       "      <th>0</th>\n",
       "      <td>nobell.it/70ffb52d079109dca5664cce6f317373782/...</td>\n",
       "      <td>1.0</td>\n",
       "    </tr>\n",
       "    <tr>\n",
       "      <th>1</th>\n",
       "      <td>www.dghjdgf.com/paypal.co.uk/cycgi-bin/webscrc...</td>\n",
       "      <td>1.0</td>\n",
       "    </tr>\n",
       "    <tr>\n",
       "      <th>2</th>\n",
       "      <td>serviciosbys.com/paypal.cgi.bin.get-into.herf....</td>\n",
       "      <td>1.0</td>\n",
       "    </tr>\n",
       "    <tr>\n",
       "      <th>3</th>\n",
       "      <td>mail.printakid.com/www.online.americanexpress....</td>\n",
       "      <td>1.0</td>\n",
       "    </tr>\n",
       "    <tr>\n",
       "      <th>4</th>\n",
       "      <td>thewhiskeydregs.com/wp-content/themes/widescre...</td>\n",
       "      <td>1.0</td>\n",
       "    </tr>\n",
       "  </tbody>\n",
       "</table>\n",
       "</div>"
      ],
      "text/plain": [
       "                                              domain  label\n",
       "0  nobell.it/70ffb52d079109dca5664cce6f317373782/...    1.0\n",
       "1  www.dghjdgf.com/paypal.co.uk/cycgi-bin/webscrc...    1.0\n",
       "2  serviciosbys.com/paypal.cgi.bin.get-into.herf....    1.0\n",
       "3  mail.printakid.com/www.online.americanexpress....    1.0\n",
       "4  thewhiskeydregs.com/wp-content/themes/widescre...    1.0"
      ]
     },
     "execution_count": 2,
     "metadata": {},
     "output_type": "execute_result"
    }
   ],
   "source": [
    "# Original Dataset with Domain + Label with other features value\n",
    "data = pd.read_csv('DataSet/PhishLegitimateDataSet.csv')\n",
    "# data.head()\n",
    "# Get domain and label only : 1st way\n",
    "header = ['domain', 'label']\n",
    "# Export to new CSV\n",
    "data.to_csv('DataSet/PhishLegitimateDataSet_Cleaned1.csv', columns = header, index = False)\n",
    "\n",
    "# Get domain and label only : 2nd way\n",
    "dfRequired = data[['domain', 'label']]\n",
    "# Export to new CSV\n",
    "dfRequired.to_csv('DataSet/PhishLegitimateDataSet_Cleaned2.csv', index = False)\n",
    "dfRequired.head()"
   ]
  },
  {
   "cell_type": "code",
   "execution_count": 3,
   "metadata": {},
   "outputs": [],
   "source": [
    "# Helper Functions\n",
    "def get_f1_score(Y_test, Y_predict, title):\n",
    "    test_size = len(Y_test)\n",
    "    score = 0\n",
    "    \n",
    "    for i in range(test_size):\n",
    "        if Y_predict[i] == Y_test[i]:\n",
    "            score += 1\n",
    "            \n",
    "    print('Got %s out of %s' % (score, test_size))\n",
    "    print('f1 = %.2f' % (f1_score(Y_test, Y_predict, average = 'binary')))\n",
    "    print('precision = %.2f' % (precision_score(Y_test, Y_predict, average = 'binary')))\n",
    "    print('recall = %.2f' % (recall_score(Y_test, Y_predict, average = 'binary')))\n",
    "    print('accuracy = %.2f' % (accuracy_score(Y_test, Y_predict)))\n",
    "\n",
    "    bar_width = 0.20\n",
    "    opacity = 0.4\n",
    "    error_config = {'ecolor': '0.3'}\n",
    "    index = np.arange(1)\n",
    "\n",
    "    fig, ax = plt.subplots()\n",
    "\n",
    "    ax.bar(index, f1_score(Y_test, Y_predict, average = 'binary'), bar_width,\n",
    "           alpha = opacity, color = 'b',\n",
    "           error_kw = error_config,\n",
    "           label = 'F Score')\n",
    "    ax.bar(index + bar_width * 1, precision_score(Y_test, Y_predict, average = 'binary'), bar_width,\n",
    "           alpha = opacity, color = 'r',\n",
    "           error_kw = error_config,\n",
    "           label = 'Precision')\n",
    "    ax.bar(index + bar_width * 2, recall_score(Y_test, Y_predict, average = 'binary'), bar_width,\n",
    "           alpha = opacity, color = 'g',\n",
    "           error_kw = error_config,\n",
    "           label = 'Recall')\n",
    "    ax.bar(index + bar_width * 3, accuracy_score(Y_test, Y_predict), bar_width,\n",
    "           alpha = opacity, color = 'y',\n",
    "           error_kw = error_config,\n",
    "           label = 'Accuracy')\n",
    "    ax.set_xlabel('Measures')\n",
    "    ax.set_ylabel('Scores')\n",
    "    ax.set_title(title)\n",
    "    ax.tick_params(\n",
    "        axis = 'x',           # changes apply to the x-axis\n",
    "        which = 'both',       # both major and minor ticks are affected\n",
    "        bottom = False,       # ticks along the bottom edge are off\n",
    "        top = False,          # ticks along the top edge are off\n",
    "        labelbottom = False)  # labels along the bottom edge are off\n",
    "    ax.legend()\n",
    "    fig.tight_layout()\n",
    "    plt.show()\n",
    "    \n",
    "def show_scores_bar(results, models):\n",
    "    bar_width = 0.20\n",
    "    opacity = 0.4\n",
    "    error_config = {'ecolor': '0.3'}\n",
    "    index = np.arange(1)\n",
    "\n",
    "    fig, ax = plt.subplots()\n",
    "    \n",
    "    bar_colors = ['b', 'r', 'g', 'y', 'c', 'm', 'k']\n",
    "    i = 0\n",
    "    \n",
    "    for algo in models:\n",
    "        ax.bar(index + bar_width * i, results[algo], bar_width, alpha = opacity, \n",
    "               color = bar_colors[i], error_kw = error_config, label = algo)\n",
    "        i += 1\n",
    "    \n",
    "    ax.set_xlabel('Models')\n",
    "    ax.set_ylabel('Score')\n",
    "    ax.set_title('Score of different Classifiers')\n",
    "    ax.tick_params(\n",
    "        axis = 'x',           # changes apply to the x-axis\n",
    "        which = 'both',       # both major and minor ticks are affected\n",
    "        bottom = False,       # ticks along the bottom edge are off\n",
    "        top = False,          # ticks along the top edge are off\n",
    "        labelbottom = False)  # labels along the bottom edge are off\n",
    "    ax.legend()\n",
    "    fig.tight_layout()\n",
    "    plt.show()\n",
    "    \n",
    "# we use this function when feature vector has label (binary) at end, \n",
    "# and use it in conjuction with def make_np_array_XY(xy):\n",
    "def make_feature_vector(from_index, url, label):\n",
    "    feature_vector = []\n",
    "    for i in range(len(url)):\n",
    "        s = url[from_index + i]\n",
    "        if len(s) > 0:\n",
    "            feature = getFeatures(url[from_index + i], label[from_index + i])\n",
    "        feature_vector.append(feature)\n",
    "    return feature_vector\n",
    "\n",
    "def make_np_array_XY(xy):\n",
    "    a = np.array(xy)\n",
    "    x = a[:, 0:-1]\n",
    "    y = a[:, -1]\n",
    "    return x, y\n",
    "\n",
    "def get_length(str):\n",
    "    return len(str)\n",
    "\n",
    "def get_forward_slash_count(str):\n",
    "    return str.count('/')\n",
    "\n",
    "def get_dot_count(str):\n",
    "    return str.count('.')\n",
    "\n",
    "def getTokens(input):\n",
    "    tokensBySlash = str(input.encode('utf-8')).split('/')\n",
    "    allTokens = []\n",
    "    \n",
    "    for i in tokensBySlash:\n",
    "        tokens = str(i).split('-')\n",
    "        tokensByDot = []\n",
    "        for j in range(0,len(tokens)):\n",
    "            tempTokens = str(tokens[j]).split('.')\n",
    "            tokensByDot = tokensByDot + tempTokens\n",
    "        allTokens = allTokens + tokens + tokensByDot\n",
    "        \n",
    "    allTokens = list(set(allTokens))\n",
    "    \n",
    "    if 'com' in allTokens:\n",
    "        allTokens.remove('com')\n",
    "        \n",
    "    return allTokens\n",
    "\n",
    "def get_url_scheme(url):\n",
    "    parse_object = urlparse(url)\n",
    "    return parse_object.scheme\n",
    "\n",
    "def get_domain_from_url(url):\n",
    "    return url[:url.find('/',8)]\n",
    "\n",
    "def get_path_from_url(url):\n",
    "    return url[url.find('/',8):]\n",
    "\n",
    "def getTokens1(url):\n",
    "    return re.split('\\W+', url)"
   ]
  },
  {
   "cell_type": "code",
   "execution_count": 4,
   "metadata": {},
   "outputs": [],
   "source": [
    "# Syntatic and Reputation based\n",
    "def isip(uri):\n",
    "    try:\n",
    "        if ip.ip_address(uri):\n",
    "            return 1\n",
    "    except:\n",
    "        return 0\n",
    "\n",
    "def scheme_http_or_not(url):\n",
    "    if get_url_scheme(url) == 'http' or get_url_scheme(url) == 'https':\n",
    "        return 1\n",
    "    return 0\n",
    "\n",
    "def is_https(url):\n",
    "    if get_url_scheme(url) == 'http' or get_url_scheme(url) == 'https':\n",
    "        if get_url_scheme(url) == 'https':\n",
    "            return 1\n",
    "        else:\n",
    "            return 0\n",
    "    else:\n",
    "        return 0\n",
    "    \n",
    "def is_exe(url):\n",
    "    if \".exe\" in url:\n",
    "        return 1 \n",
    "    else:\n",
    "        return 0 \n",
    "    \n",
    "def is_short_url(url):\n",
    "    if \".ly\" in url:\n",
    "        return 1\n",
    "    else:\n",
    "        return 0\n",
    "    \n",
    "def suspicious_word_count(url):\n",
    "    tokens_words = getTokens1(url)\n",
    "    sec_sen_words = ['confirm',\n",
    "                     'signon',\n",
    "                     'account',\n",
    "                     'banking',\n",
    "                     'secure',\n",
    "                     'ebayisapi',\n",
    "                     'webscr',\n",
    "                     'login',\n",
    "                     'signin',\n",
    "                     'recovery',\n",
    "                     'forgotpassword']\n",
    "    cnt = 0\n",
    "    for ele in sec_sen_words:\n",
    "        if(ele in tokens_words):\n",
    "            cnt += 1\n",
    "    return cnt\n",
    "\n",
    "def Presence_of_IP(url):\n",
    "    tokens_words = getTokens1(url)\n",
    "    cnt = 0\n",
    "\n",
    "    for ele in tokens_words:\n",
    "        try:\n",
    "            ele = unicode(ele, \"utf-8\")\n",
    "            ip = ipaddress.ip_address(ele)\n",
    "            cnt += 1\n",
    "        except:\n",
    "            pass\n",
    "    \n",
    "    if cnt > 0:\n",
    "        return 1\n",
    "    \n",
    "    return 0\n",
    "\n",
    "def token_count(url):\n",
    "    return len(getTokens1(url))\n",
    "\n",
    "def has_port_number(url):\n",
    "    url_port = urlparse(url)\n",
    "    \n",
    "    if url_port.port != None:\n",
    "        return 1\n",
    "    \n",
    "    return 0\n",
    "\n",
    "# LEXICAL FEATURES\n",
    "# URL Related\n",
    "def alphabet_count(url):\n",
    "    return sum(url_char.isalpha() for url_char in url)\n",
    "\n",
    "def digit_count(url):\n",
    "    return sum(url_char.isdigit() for url_char in url)\n",
    "\n",
    "def get_at_count(str):\n",
    "    return str.count('@')\n",
    "    \n",
    "def get_hyphen_count(str):\n",
    "    return str.count('-')\n",
    "\n",
    "def get_amp_count(str):\n",
    "    return str.count('&')\n",
    "\n",
    "def get_delimeter_count(str):\n",
    "    count = 0\n",
    "    delim = [';', '_', '?', '=', '&']\n",
    "    delim = ['-',\n",
    "             '.',\n",
    "             '_',\n",
    "             '~',\n",
    "             ':',\n",
    "             '/',\n",
    "             '?',\n",
    "             '#',\n",
    "             '[',\n",
    "             ']',\n",
    "             '@',\n",
    "             '!',\n",
    "             '$',\n",
    "             '&',\n",
    "             '\\'',\n",
    "             '(',\n",
    "             ')',\n",
    "             '*',\n",
    "             '+',\n",
    "             ',',\n",
    "             ';',\n",
    "             '=',\n",
    "             '`',\n",
    "             '.']\n",
    "    for each in str:\n",
    "        if each in delim:\n",
    "            count = count + 1\n",
    "    return count\n",
    "\n",
    "def get_forward_slash_count_in_url(url):\n",
    "    return get_forward_slash_count(url)\n",
    "\n",
    "def get_dot_count_in_url(url):\n",
    "    return get_dot_count(url)\n",
    "\n",
    "def get_url_length(url):\n",
    "    return get_length(url)\n",
    "\n",
    "# Domain Related\n",
    "def get_forward_slash_count_in_domain(url):\n",
    "    return get_forward_slash_count(get_domain_from_url(url))\n",
    "\n",
    "def get_dot_count_in_domain(url):\n",
    "    return get_dot_count(get_domain_from_url(url))\n",
    "\n",
    "def get_domain_length(url):\n",
    "    return get_length(get_domain_from_url(url))\n",
    "\n",
    "# Path Related\n",
    "def get_forward_slash_count_in_path(url):\n",
    "    return get_forward_slash_count(get_path_from_url(url))\n",
    "\n",
    "def get_dot_count_in_path(url):\n",
    "    return get_dot_count(get_path_from_url(url))\n",
    "\n",
    "def get_path_length(url):\n",
    "    return get_length(get_path_from_url(url))"
   ]
  },
  {
   "cell_type": "code",
   "execution_count": 5,
   "metadata": {},
   "outputs": [],
   "source": [
    "def getFeatures(url, label): \n",
    "    s = str(url)\n",
    "    path = urlparse(s)\n",
    "    ext = tldextract.extract(s)\n",
    "    feature = []\n",
    "    #Semantic\n",
    "    feature.append(isip(ext.domain))\n",
    "    feature.append(len(path.query)) # number of queries\n",
    "    feature.append(scheme_http_or_not(s))\n",
    "    feature.append(is_https(path.netloc))\n",
    "    feature.append(is_exe(s))\n",
    "    feature.append(is_short_url(s))\n",
    "    feature.append(suspicious_word_count(s))\n",
    "    feature.append(Presence_of_IP(s))\n",
    "    feature.append(token_count(s))\n",
    "    feature.append(has_port_number(s))\n",
    "    #Syntatic\n",
    "    #URL Related\n",
    "    feature.append(alphabet_count(s))\n",
    "    feature.append(digit_count(s))\n",
    "    feature.append(len(path.netloc)) # domain name length eg. my-fb.com.np in my-fb.com.np/login?code=v78\n",
    "    feature.append(get_at_count(s))\n",
    "    feature.append(get_hyphen_count(s))\n",
    "    feature.append(get_amp_count(s))\n",
    "    feature.append(get_delimeter_count(s))\n",
    "    \n",
    "    feature.append(get_forward_slash_count_in_url(s))\n",
    "    feature.append(get_dot_count_in_url(s))\n",
    "    feature.append(get_url_length(s))\n",
    "    #Sub-domain/Domain Related\n",
    "    feature.append(get_forward_slash_count_in_domain(s))\n",
    "    feature.append(get_dot_count_in_domain(s))\n",
    "    feature.append(get_domain_length(s))\n",
    "    #Path Related\n",
    "    feature.append(get_forward_slash_count_in_path(s))\n",
    "    feature.append(get_dot_count_in_path(s))\n",
    "    feature.append(get_path_length(s))\n",
    "    #Label\n",
    "    feature.append(label)\n",
    "    return feature"
   ]
  },
  {
   "cell_type": "code",
   "execution_count": 6,
   "metadata": {},
   "outputs": [],
   "source": [
    "from_index = 30000\n",
    "to_index = 65000\n",
    "cut_ratio = 0.8"
   ]
  },
  {
   "cell_type": "code",
   "execution_count": 7,
   "metadata": {},
   "outputs": [
    {
     "data": {
      "text/plain": [
       "30000    prades-consulting.com/www.paypal.fr/bd6e020e9c...\n",
       "30001                                  arcot6.mcscsec.com/\n",
       "30002    'aricilikmarketi.com/templates/estime_redberry...\n",
       "30003    www.cocodelagalea.es/imagenes/www.vodafone.co....\n",
       "30004    bankruptcyarmor.com/wp-includes/js/crop/www.vo...\n",
       "Name: domain, dtype: object"
      ]
     },
     "execution_count": 7,
     "metadata": {},
     "output_type": "execute_result"
    }
   ],
   "source": [
    "df_dom = dfRequired[['domain']].iloc[from_index : to_index, 0]\n",
    "df_dom.head()"
   ]
  },
  {
   "cell_type": "code",
   "execution_count": 8,
   "metadata": {},
   "outputs": [
    {
     "data": {
      "text/plain": [
       "30000    1.0\n",
       "30001    1.0\n",
       "30002    1.0\n",
       "30003    1.0\n",
       "30004    1.0\n",
       "Name: label, dtype: float64"
      ]
     },
     "execution_count": 8,
     "metadata": {},
     "output_type": "execute_result"
    }
   ],
   "source": [
    "df_label = dfRequired[['label']].iloc[from_index : to_index, 0]\n",
    "df_label.head()"
   ]
  },
  {
   "cell_type": "code",
   "execution_count": 9,
   "metadata": {},
   "outputs": [],
   "source": [
    "#vectorizer = TfidfVectorizer(tokenizer = getTokens)\n",
    "#X = vectorizer.fit_transform(df_dom)\n",
    "#Y = df_label\n",
    "#X.shape"
   ]
  },
  {
   "cell_type": "code",
   "execution_count": 10,
   "metadata": {},
   "outputs": [],
   "source": [
    "#X_train, X_test, y_train, y_test = train_test_split(X, Y, test_size = (1 - cut_ratio), random_state = 42)\n",
    "#lgs = LogisticRegression()\n",
    "#lgs.fit(X_train, y_train)\n",
    "#print(lgs.score(X_test, y_test))"
   ]
  },
  {
   "cell_type": "code",
   "execution_count": 11,
   "metadata": {},
   "outputs": [],
   "source": [
    "class URLExtractor(BaseEstimator, TransformerMixin):\n",
    "    def fit(self, x, y = None):\n",
    "        return self\n",
    "\n",
    "    def transform(self, urls):\n",
    "        features = np.recarray(shape = (len(urls),), dtype = [('url', object)])\n",
    "        for i, text in enumerate(urls):\n",
    "            features['url'][i] = text\n",
    "\n",
    "        return features"
   ]
  },
  {
   "cell_type": "code",
   "execution_count": 12,
   "metadata": {},
   "outputs": [],
   "source": [
    "class ItemSelector(BaseEstimator, TransformerMixin):\n",
    "    def __init__(self, key):\n",
    "        self.key = key\n",
    "\n",
    "    def fit(self, x, y = None):\n",
    "        return self\n",
    "\n",
    "    def transform(self, data_dict):\n",
    "        return data_dict[self.key]"
   ]
  },
  {
   "cell_type": "code",
   "execution_count": 13,
   "metadata": {},
   "outputs": [],
   "source": [
    "class TextStats(BaseEstimator, TransformerMixin):\n",
    "    def fit(self, x, y = None):\n",
    "        return self\n",
    "\n",
    "    def transform(self, urls):\n",
    "        vect = []\n",
    "        for url in urls:\n",
    "            s = str(url)\n",
    "            path = urlparse(s)\n",
    "            ext = tldextract.extract(s)\n",
    "            \n",
    "            vect.append(\n",
    "            {\n",
    "            'IP?': isip(ext.domain),\n",
    "            '# of query': len(path.query),\n",
    "            'http/https?': scheme_http_or_not(s),\n",
    "            'https?': is_https(path.netloc),\n",
    "            'exe?': is_exe(s),\n",
    "            'short url?': is_short_url(s),\n",
    "            'suspicious word count': suspicious_word_count(s),\n",
    "            'IP Present?': Presence_of_IP(s),\n",
    "            'Token Count': token_count(s),\n",
    "            'Has Port?': has_port_number(s),\n",
    "                \n",
    "            'Alphabet Count': alphabet_count(s),\n",
    "            'Digit Count': digit_count(s),\n",
    "            'len(domain name)': len(path.netloc),\n",
    "            '# of @': get_at_count(s),\n",
    "            '# of -': get_hyphen_count(s),\n",
    "            '# of &': get_amp_count(s),\n",
    "            '# of delimeter': get_delimeter_count(s),\n",
    "                \n",
    "            'url # of /': get_forward_slash_count_in_url(s),\n",
    "            'url # of .': get_dot_count_in_url(s),\n",
    "            'len(url)': get_url_length(s),\n",
    "                \n",
    "            'sub/domain # of /': get_forward_slash_count_in_domain(s),\n",
    "            'sub/domain # of .': get_dot_count_in_domain(s),\n",
    "            'len(sub/domain)': get_domain_length(s),\n",
    "                \n",
    "            'path # of /': get_forward_slash_count_in_path(s),\n",
    "            'path # of .': get_dot_count_in_path(s),\n",
    "            'len(path)': get_path_length(s),\n",
    "            }\n",
    "            )\n",
    "        \n",
    "        return vect"
   ]
  },
  {
   "cell_type": "code",
   "execution_count": 14,
   "metadata": {},
   "outputs": [],
   "source": [
    "pipeline = Pipeline([\n",
    "    ('url_extraction', URLExtractor()),\n",
    "    \n",
    "    # Use FeatureUnion to combine the features\n",
    "    ('union', FeatureUnion(\n",
    "        transformer_list = [\n",
    "            # Pipeline for pulling features from TfidfVectorizer\n",
    "            ('url_feature_generation1', Pipeline([\n",
    "                ('selector', ItemSelector(key = 'url')),\n",
    "                ('tfidf', TfidfVectorizer(tokenizer = getTokens)),\n",
    "            ])),\n",
    "            \n",
    "            # Pipeline for standard bag-of-words model\n",
    "            ('url_feature_generation2', Pipeline([\n",
    "                ('selector', ItemSelector(key = 'url')),\n",
    "                ('tfidf', TfidfVectorizer()),\n",
    "                ('best', TruncatedSVD(n_components = 50)),\n",
    "            ])),\n",
    "            \n",
    "            # Pipeline for pulling ad hoc features\n",
    "            ('url_feature_generation3', Pipeline([\n",
    "                ('selector', ItemSelector(key = 'url')),\n",
    "                ('stats', TextStats()),  # returns a list of dicts\n",
    "                ('vect', DictVectorizer()),  # list of dicts -> feature matrix\n",
    "            ])),\n",
    "        ],\n",
    "        \n",
    "        # weight components in FeatureUnion\n",
    "        transformer_weights = {\n",
    "            'url_feature_generation1': 0.8,\n",
    "            'url_feature_generation2': 0.5,\n",
    "            'url_feature_generation3': 1.0,\n",
    "        },\n",
    "    )),\n",
    "    \n",
    "    ('RandomForest', ensembleLearning.RandomForestClassifier(n_estimators = 50))\n",
    "])"
   ]
  },
  {
   "cell_type": "code",
   "execution_count": 15,
   "metadata": {},
   "outputs": [
    {
     "name": "stdout",
     "output_type": "stream",
     "text": [
      "             precision    recall  f1-score   support\n",
      "\n",
      "        0.0       0.91      0.94      0.92      3299\n",
      "        1.0       0.95      0.91      0.93      3701\n",
      "\n",
      "avg / total       0.93      0.93      0.93      7000\n",
      "\n"
     ]
    }
   ],
   "source": [
    "X_train, X_test, y_train, y_test = train_test_split(df_dom, df_label, test_size = (1 - cut_ratio), random_state = 42)\n",
    "#print('Train Size: '+str(len(X_train))\n",
    "pipeline.fit(X_train, y_train)\n",
    "y = pipeline.predict(X_test)\n",
    "print(classification_report(y, y_test))"
   ]
  },
  {
   "cell_type": "code",
   "execution_count": 16,
   "metadata": {},
   "outputs": [],
   "source": [
    "featureSet = pd.DataFrame(columns = ('IP?',\\\n",
    "                                     '# of query',\\\n",
    "                                     'http/https?',\\\n",
    "                                     'https?',\\\n",
    "                                     'exe?',\\\n",
    "                                     'short url?',\\\n",
    "                                     'suspicious word count',\\\n",
    "                                     'IP Present?',\\\n",
    "                                     'Token Count',\\\n",
    "                                     'Has Port?',\\\n",
    "                                     \n",
    "                                     'Alphabet Count',\\\n",
    "                                     'Digit Count',\\\n",
    "                                     'len(domain name)',\\\n",
    "                                     '# of @',\\\n",
    "                                     '# of -',\\\n",
    "                                     '# of &',\\\n",
    "                                     '# of delimeter',\\\n",
    "                                     \n",
    "                                     'url # of /',\\\n",
    "                                     'url # of .',\\\n",
    "                                     'len(url)',\\\n",
    "                                     \n",
    "                                     'sub/domain # of /',\\\n",
    "                                     'sub/domain # of .',\\\n",
    "                                     'len(sub/domain)',\\\n",
    "                                     \n",
    "                                     'path # of /',\\\n",
    "                                     'path # of .',\\\n",
    "                                     'len(path)',\\\n",
    "                                     \n",
    "                                     'label'))"
   ]
  },
  {
   "cell_type": "code",
   "execution_count": 17,
   "metadata": {},
   "outputs": [
    {
     "name": "stdout",
     "output_type": "stream",
     "text": [
      "35000\n",
      "prades-consulting.com/www.paypal.fr/bd6e020e9ce0350d5ef1820fb309193f/\n"
     ]
    },
    {
     "data": {
      "text/html": [
       "<div>\n",
       "<style>\n",
       "    .dataframe thead tr:only-child th {\n",
       "        text-align: right;\n",
       "    }\n",
       "\n",
       "    .dataframe thead th {\n",
       "        text-align: left;\n",
       "    }\n",
       "\n",
       "    .dataframe tbody tr th {\n",
       "        vertical-align: top;\n",
       "    }\n",
       "</style>\n",
       "<table border=\"1\" class=\"dataframe\">\n",
       "  <thead>\n",
       "    <tr style=\"text-align: right;\">\n",
       "      <th></th>\n",
       "      <th>domain</th>\n",
       "      <th>label</th>\n",
       "    </tr>\n",
       "  </thead>\n",
       "  <tbody>\n",
       "    <tr>\n",
       "      <th>30000</th>\n",
       "      <td>prades-consulting.com/www.paypal.fr/bd6e020e9c...</td>\n",
       "      <td>1.0</td>\n",
       "    </tr>\n",
       "    <tr>\n",
       "      <th>30001</th>\n",
       "      <td>arcot6.mcscsec.com/</td>\n",
       "      <td>1.0</td>\n",
       "    </tr>\n",
       "    <tr>\n",
       "      <th>30002</th>\n",
       "      <td>'aricilikmarketi.com/templates/estime_redberry...</td>\n",
       "      <td>1.0</td>\n",
       "    </tr>\n",
       "    <tr>\n",
       "      <th>30003</th>\n",
       "      <td>www.cocodelagalea.es/imagenes/www.vodafone.co....</td>\n",
       "      <td>1.0</td>\n",
       "    </tr>\n",
       "    <tr>\n",
       "      <th>30004</th>\n",
       "      <td>bankruptcyarmor.com/wp-includes/js/crop/www.vo...</td>\n",
       "      <td>1.0</td>\n",
       "    </tr>\n",
       "  </tbody>\n",
       "</table>\n",
       "</div>"
      ],
      "text/plain": [
       "                                                  domain  label\n",
       "30000  prades-consulting.com/www.paypal.fr/bd6e020e9c...    1.0\n",
       "30001                                arcot6.mcscsec.com/    1.0\n",
       "30002  'aricilikmarketi.com/templates/estime_redberry...    1.0\n",
       "30003  www.cocodelagalea.es/imagenes/www.vodafone.co....    1.0\n",
       "30004  bankruptcyarmor.com/wp-includes/js/crop/www.vo...    1.0"
      ]
     },
     "execution_count": 17,
     "metadata": {},
     "output_type": "execute_result"
    }
   ],
   "source": [
    "# use subset of given dataset\n",
    "dfRequired_trim = dfRequired[from_index:to_index]\n",
    "print(len(dfRequired_trim))\n",
    "print(dfRequired_trim[\"domain\"].loc[0 + from_index])\n",
    "dfRequired_trim.head()"
   ]
  },
  {
   "cell_type": "code",
   "execution_count": 18,
   "metadata": {},
   "outputs": [
    {
     "name": "stdout",
     "output_type": "stream",
     "text": [
      "label\n",
      "0.0    17098\n",
      "1.0    17902\n",
      "dtype: int64\n"
     ]
    }
   ],
   "source": [
    "for i in range(len(dfRequired_trim)):\n",
    "    features = getFeatures(dfRequired_trim['domain'].loc[i + from_index], dfRequired_trim['label'].loc[i + from_index])  \n",
    "    featureSet.loc[i] = features\n",
    "\n",
    "featureSet.head()\n",
    "# Positive and Negative Instances in given Selected Dataset\n",
    "print(featureSet.groupby(featureSet['label']).size())"
   ]
  },
  {
   "cell_type": "code",
   "execution_count": 19,
   "metadata": {},
   "outputs": [
    {
     "data": {
      "image/png": "[encoded data removed]",
      "text/plain": [
       "<matplotlib.figure.Figure at 0xed43940>"
      ]
     },
     "metadata": {},
     "output_type": "display_data"
    }
   ],
   "source": [
    "# Data Visualization, Distribution according to length of URL\n",
    "sns.set(style = 'darkgrid')\n",
    "sns.distplot(featureSet[featureSet['label'] == 0.0]['len(url)'], color='red', label = 'Phish URLs')\n",
    "sns.distplot(featureSet[featureSet['label'] == 1.0]['len(url)'], color='green', label = 'Legitimate URLs')\n",
    "plt.title('Url Length Distribution')\n",
    "plt.legend(loc = 'upper right')\n",
    "plt.xlabel('Length of URL')\n",
    "\n",
    "plt.show()"
   ]
  },
  {
   "cell_type": "code",
   "execution_count": 20,
   "metadata": {},
   "outputs": [
    {
     "data": {
      "text/html": [
       "<div>\n",
       "<style>\n",
       "    .dataframe thead tr:only-child th {\n",
       "        text-align: right;\n",
       "    }\n",
       "\n",
       "    .dataframe thead th {\n",
       "        text-align: left;\n",
       "    }\n",
       "\n",
       "    .dataframe tbody tr th {\n",
       "        vertical-align: top;\n",
       "    }\n",
       "</style>\n",
       "<table border=\"1\" class=\"dataframe\">\n",
       "  <thead>\n",
       "    <tr style=\"text-align: right;\">\n",
       "      <th></th>\n",
       "      <th>0</th>\n",
       "      <th>1</th>\n",
       "      <th>2</th>\n",
       "      <th>3</th>\n",
       "      <th>4</th>\n",
       "      <th>5</th>\n",
       "      <th>6</th>\n",
       "      <th>7</th>\n",
       "      <th>8</th>\n",
       "      <th>9</th>\n",
       "      <th>...</th>\n",
       "      <th>16</th>\n",
       "      <th>17</th>\n",
       "      <th>18</th>\n",
       "      <th>19</th>\n",
       "      <th>20</th>\n",
       "      <th>21</th>\n",
       "      <th>22</th>\n",
       "      <th>23</th>\n",
       "      <th>24</th>\n",
       "      <th>25</th>\n",
       "    </tr>\n",
       "  </thead>\n",
       "  <tbody>\n",
       "    <tr>\n",
       "      <th>0</th>\n",
       "      <td>0.0</td>\n",
       "      <td>75.0</td>\n",
       "      <td>0.0</td>\n",
       "      <td>0.0</td>\n",
       "      <td>0.0</td>\n",
       "      <td>0.0</td>\n",
       "      <td>1.0</td>\n",
       "      <td>0.0</td>\n",
       "      <td>22.0</td>\n",
       "      <td>0.0</td>\n",
       "      <td>...</td>\n",
       "      <td>22.0</td>\n",
       "      <td>8.0</td>\n",
       "      <td>7.0</td>\n",
       "      <td>106.0</td>\n",
       "      <td>0.0</td>\n",
       "      <td>2.0</td>\n",
       "      <td>13.0</td>\n",
       "      <td>8.0</td>\n",
       "      <td>5.0</td>\n",
       "      <td>93.0</td>\n",
       "    </tr>\n",
       "    <tr>\n",
       "      <th>1</th>\n",
       "      <td>0.0</td>\n",
       "      <td>0.0</td>\n",
       "      <td>0.0</td>\n",
       "      <td>0.0</td>\n",
       "      <td>0.0</td>\n",
       "      <td>0.0</td>\n",
       "      <td>0.0</td>\n",
       "      <td>0.0</td>\n",
       "      <td>4.0</td>\n",
       "      <td>0.0</td>\n",
       "      <td>...</td>\n",
       "      <td>3.0</td>\n",
       "      <td>2.0</td>\n",
       "      <td>1.0</td>\n",
       "      <td>21.0</td>\n",
       "      <td>0.0</td>\n",
       "      <td>1.0</td>\n",
       "      <td>15.0</td>\n",
       "      <td>2.0</td>\n",
       "      <td>0.0</td>\n",
       "      <td>6.0</td>\n",
       "    </tr>\n",
       "    <tr>\n",
       "      <th>2</th>\n",
       "      <td>0.0</td>\n",
       "      <td>35.0</td>\n",
       "      <td>0.0</td>\n",
       "      <td>0.0</td>\n",
       "      <td>0.0</td>\n",
       "      <td>0.0</td>\n",
       "      <td>0.0</td>\n",
       "      <td>0.0</td>\n",
       "      <td>11.0</td>\n",
       "      <td>0.0</td>\n",
       "      <td>...</td>\n",
       "      <td>10.0</td>\n",
       "      <td>2.0</td>\n",
       "      <td>2.0</td>\n",
       "      <td>72.0</td>\n",
       "      <td>0.0</td>\n",
       "      <td>1.0</td>\n",
       "      <td>13.0</td>\n",
       "      <td>2.0</td>\n",
       "      <td>1.0</td>\n",
       "      <td>59.0</td>\n",
       "    </tr>\n",
       "    <tr>\n",
       "      <th>3</th>\n",
       "      <td>0.0</td>\n",
       "      <td>0.0</td>\n",
       "      <td>0.0</td>\n",
       "      <td>0.0</td>\n",
       "      <td>0.0</td>\n",
       "      <td>0.0</td>\n",
       "      <td>0.0</td>\n",
       "      <td>0.0</td>\n",
       "      <td>9.0</td>\n",
       "      <td>0.0</td>\n",
       "      <td>...</td>\n",
       "      <td>8.0</td>\n",
       "      <td>4.0</td>\n",
       "      <td>3.0</td>\n",
       "      <td>58.0</td>\n",
       "      <td>0.0</td>\n",
       "      <td>2.0</td>\n",
       "      <td>20.0</td>\n",
       "      <td>4.0</td>\n",
       "      <td>1.0</td>\n",
       "      <td>38.0</td>\n",
       "    </tr>\n",
       "    <tr>\n",
       "      <th>4</th>\n",
       "      <td>0.0</td>\n",
       "      <td>0.0</td>\n",
       "      <td>0.0</td>\n",
       "      <td>0.0</td>\n",
       "      <td>0.0</td>\n",
       "      <td>0.0</td>\n",
       "      <td>0.0</td>\n",
       "      <td>0.0</td>\n",
       "      <td>5.0</td>\n",
       "      <td>0.0</td>\n",
       "      <td>...</td>\n",
       "      <td>4.0</td>\n",
       "      <td>2.0</td>\n",
       "      <td>2.0</td>\n",
       "      <td>36.0</td>\n",
       "      <td>0.0</td>\n",
       "      <td>2.0</td>\n",
       "      <td>20.0</td>\n",
       "      <td>2.0</td>\n",
       "      <td>0.0</td>\n",
       "      <td>16.0</td>\n",
       "    </tr>\n",
       "  </tbody>\n",
       "</table>\n",
       "<p>5 rows × 26 columns</p>\n",
       "</div>"
      ],
      "text/plain": [
       "    0     1    2    3    4    5    6    7     8    9   ...     16   17   18  \\\n",
       "0  0.0  75.0  0.0  0.0  0.0  0.0  1.0  0.0  22.0  0.0  ...   22.0  8.0  7.0   \n",
       "1  0.0   0.0  0.0  0.0  0.0  0.0  0.0  0.0   4.0  0.0  ...    3.0  2.0  1.0   \n",
       "2  0.0  35.0  0.0  0.0  0.0  0.0  0.0  0.0  11.0  0.0  ...   10.0  2.0  2.0   \n",
       "3  0.0   0.0  0.0  0.0  0.0  0.0  0.0  0.0   9.0  0.0  ...    8.0  4.0  3.0   \n",
       "4  0.0   0.0  0.0  0.0  0.0  0.0  0.0  0.0   5.0  0.0  ...    4.0  2.0  2.0   \n",
       "\n",
       "      19   20   21    22   23   24    25  \n",
       "0  106.0  0.0  2.0  13.0  8.0  5.0  93.0  \n",
       "1   21.0  0.0  1.0  15.0  2.0  0.0   6.0  \n",
       "2   72.0  0.0  1.0  13.0  2.0  1.0  59.0  \n",
       "3   58.0  0.0  2.0  20.0  4.0  1.0  38.0  \n",
       "4   36.0  0.0  2.0  20.0  2.0  0.0  16.0  \n",
       "\n",
       "[5 rows x 26 columns]"
      ]
     },
     "execution_count": 20,
     "metadata": {},
     "output_type": "execute_result"
    }
   ],
   "source": [
    "# Preparing for model training\n",
    "featureSet = sklearn.utils.shuffle(featureSet)\n",
    "# axis = 1 means drop by column\n",
    "X = featureSet.drop(['label'], axis = 1).values # without label\n",
    "Y = featureSet['label'].values # label\n",
    "pd.DataFrame(X).head()"
   ]
  },
  {
   "cell_type": "code",
   "execution_count": 21,
   "metadata": {},
   "outputs": [
    {
     "data": {
      "text/html": [
       "<div>\n",
       "<style>\n",
       "    .dataframe thead tr:only-child th {\n",
       "        text-align: right;\n",
       "    }\n",
       "\n",
       "    .dataframe thead th {\n",
       "        text-align: left;\n",
       "    }\n",
       "\n",
       "    .dataframe tbody tr th {\n",
       "        vertical-align: top;\n",
       "    }\n",
       "</style>\n",
       "<table border=\"1\" class=\"dataframe\">\n",
       "  <thead>\n",
       "    <tr style=\"text-align: right;\">\n",
       "      <th></th>\n",
       "      <th>0</th>\n",
       "    </tr>\n",
       "  </thead>\n",
       "  <tbody>\n",
       "    <tr>\n",
       "      <th>0</th>\n",
       "      <td>1.0</td>\n",
       "    </tr>\n",
       "    <tr>\n",
       "      <th>1</th>\n",
       "      <td>0.0</td>\n",
       "    </tr>\n",
       "    <tr>\n",
       "      <th>2</th>\n",
       "      <td>1.0</td>\n",
       "    </tr>\n",
       "    <tr>\n",
       "      <th>3</th>\n",
       "      <td>1.0</td>\n",
       "    </tr>\n",
       "    <tr>\n",
       "      <th>4</th>\n",
       "      <td>0.0</td>\n",
       "    </tr>\n",
       "  </tbody>\n",
       "</table>\n",
       "</div>"
      ],
      "text/plain": [
       "     0\n",
       "0  1.0\n",
       "1  0.0\n",
       "2  1.0\n",
       "3  1.0\n",
       "4  0.0"
      ]
     },
     "execution_count": 21,
     "metadata": {},
     "output_type": "execute_result"
    }
   ],
   "source": [
    "pd.DataFrame(Y).head()"
   ]
  },
  {
   "cell_type": "code",
   "execution_count": 22,
   "metadata": {},
   "outputs": [],
   "source": [
    "model = {\"Decision Tree\" : tree.DecisionTreeClassifier(max_depth = 10),\n",
    "         \"Random Forest\" : ensembleLearning.RandomForestClassifier(n_estimators = 50),\n",
    "         \"Adaboost\" : ensembleLearning.AdaBoostClassifier(n_estimators = 50),\n",
    "         \"Gradient Boosting\" : ensembleLearning.GradientBoostingClassifier(n_estimators = 50),\n",
    "         \"GNB\" : GaussianNB(),\n",
    "         \"Logistic Regression\" : LogisticRegression()\n",
    "}"
   ]
  },
  {
   "cell_type": "code",
   "execution_count": 23,
   "metadata": {},
   "outputs": [
    {
     "name": "stdout",
     "output_type": "stream",
     "text": [
      "Decision Tree : 0.902 \n",
      "Got 6314 out of 7000\n",
      "f1 = 0.90\n",
      "precision = 0.95\n",
      "recall = 0.85\n",
      "accuracy = 0.90\n"
     ]
    },
    {
     "data": {
      "image/png": "[encoded data removed]",
      "text/plain": [
       "<matplotlib.figure.Figure at 0xcd242e8>"
      ]
     },
     "metadata": {},
     "output_type": "display_data"
    },
    {
     "name": "stdout",
     "output_type": "stream",
     "text": [
      "Random Forest : 0.912285714286 \n",
      "Got 6386 out of 7000\n",
      "f1 = 0.91\n",
      "precision = 0.93\n",
      "recall = 0.89\n",
      "accuracy = 0.91\n"
     ]
    },
    {
     "data": {
      "image/png": "[encoded data removed]",
      "text/plain": [
       "<matplotlib.figure.Figure at 0xcf53f98>"
      ]
     },
     "metadata": {},
     "output_type": "display_data"
    },
    {
     "name": "stdout",
     "output_type": "stream",
     "text": [
      "Adaboost : 0.894428571429 \n",
      "Got 6261 out of 7000\n",
      "f1 = 0.89\n",
      "precision = 0.93\n",
      "recall = 0.85\n",
      "accuracy = 0.89\n"
     ]
    },
    {
     "data": {
      "image/png": "[encoded data removed]",
      "text/plain": [
       "<matplotlib.figure.Figure at 0xcf8a6d8>"
      ]
     },
     "metadata": {},
     "output_type": "display_data"
    },
    {
     "name": "stdout",
     "output_type": "stream",
     "text": [
      "Gradient Boosting : 0.895857142857 \n",
      "Got 6271 out of 7000\n",
      "f1 = 0.89\n",
      "precision = 0.92\n",
      "recall = 0.87\n",
      "accuracy = 0.90\n"
     ]
    },
    {
     "data": {
      "image/png": "[encoded data removed]",
      "text/plain": [
       "<matplotlib.figure.Figure at 0xd18fd30>"
      ]
     },
     "metadata": {},
     "output_type": "display_data"
    },
    {
     "name": "stdout",
     "output_type": "stream",
     "text": [
      "GNB : 0.817142857143 \n",
      "Got 5720 out of 7000\n",
      "f1 = 0.78\n",
      "precision = 0.96\n",
      "recall = 0.67\n",
      "accuracy = 0.82\n"
     ]
    },
    {
     "data": {
      "image/png": "[encoded data removed]",
      "text/plain": [
       "<matplotlib.figure.Figure at 0xd103e10>"
      ]
     },
     "metadata": {},
     "output_type": "display_data"
    },
    {
     "name": "stdout",
     "output_type": "stream",
     "text": [
      "Logistic Regression : 0.847714285714 \n",
      "Got 5934 out of 7000\n",
      "f1 = 0.84\n",
      "precision = 0.90\n",
      "recall = 0.78\n",
      "accuracy = 0.85\n"
     ]
    },
    {
     "data": {
      "image/png": "[encoded data removed]",
      "text/plain": [
       "<matplotlib.figure.Figure at 0xd21af28>"
      ]
     },
     "metadata": {},
     "output_type": "display_data"
    }
   ],
   "source": [
    "X_train, X_test, Y_train, Y_test = train_test_split(X, Y , test_size = (1 - cut_ratio))\n",
    "results = {}\n",
    "\n",
    "for algo in model:\n",
    "    clf = model[algo]\n",
    "    clf.fit(X_train, Y_train)\n",
    "    score = clf.score(X_test, Y_test)\n",
    "    print (\"%s : %s \" %(algo, score))\n",
    "    results[algo] = score\n",
    "    \n",
    "    Y_predict = clf.predict(X_test)\n",
    "    get_f1_score(Y_test, Y_predict, \"Various Performance Measures for %s\"%algo)"
   ]
  },
  {
   "cell_type": "code",
   "execution_count": 24,
   "metadata": {},
   "outputs": [
    {
     "data": {
      "image/png": "[encoded data removed]",
      "text/plain": [
       "<matplotlib.figure.Figure at 0xd14e860>"
      ]
     },
     "metadata": {},
     "output_type": "display_data"
    },
    {
     "name": "stdout",
     "output_type": "stream",
     "text": [
      "Best Classifier : Random Forest\n",
      "False positive rate : 2.029477 %\n",
      "False negative rate : 4.340297 %\n",
      "             precision    recall  f1-score   support\n",
      "\n",
      "        0.0       0.96      0.98      0.97     17098\n",
      "        1.0       0.98      0.96      0.97     17902\n",
      "\n",
      "avg / total       0.97      0.97      0.97     35000\n",
      "\n"
     ]
    }
   ],
   "source": [
    "show_scores_bar(results, model)\n",
    "\n",
    "winner = max(results, key = results.get)\n",
    "print(\"Best Classifier : \" + winner)\n",
    "\n",
    "clf = model[winner]\n",
    "res = clf.predict(X)\n",
    "con_matrix = confusion_matrix(Y, res)\n",
    "\n",
    "print(\"False positive rate : %f %%\" % ((con_matrix[0][1] / float(sum(con_matrix[0])))*100))\n",
    "print('False negative rate : %f %%' % ((con_matrix[1][0] / float(sum(con_matrix[1]))*100)))\n",
    "\n",
    "print(classification_report(Y, res))"
   ]
  },
  {
   "cell_type": "code",
   "execution_count": 25,
   "metadata": {},
   "outputs": [],
   "source": [
    "# url = dfRequired[['domain']].iloc[from_index:to_index, 0]\n",
    "# url.head()"
   ]
  },
  {
   "cell_type": "code",
   "execution_count": 26,
   "metadata": {},
   "outputs": [],
   "source": [
    "# label = dfRequired[['label']].iloc[from_index:to_index, 0]\n",
    "# label.head()"
   ]
  },
  {
   "cell_type": "code",
   "execution_count": 27,
   "metadata": {},
   "outputs": [],
   "source": [
    "# print(\"Total Count : \" + str(len(label)))"
   ]
  },
  {
   "cell_type": "code",
   "execution_count": 28,
   "metadata": {},
   "outputs": [],
   "source": [
    "# features_and_labels = make_feature_vector(from_index, url, label)\n",
    "# df_features_and_labels = pd.DataFrame(features_and_labels)\n",
    "# df_features_and_labels.head()"
   ]
  },
  {
   "cell_type": "code",
   "execution_count": 29,
   "metadata": {},
   "outputs": [],
   "source": [
    "# len(features_and_labels)"
   ]
  },
  {
   "cell_type": "code",
   "execution_count": 30,
   "metadata": {},
   "outputs": [],
   "source": [
    "# features_and_labels = np.array(features_and_labels)\n",
    "# random.shuffle(features_and_labels)\n",
    "\n",
    "# cut = int(len(features_and_labels) * cut_ratio)\n",
    "# XY_train = features_and_labels[:cut]\n",
    "# XY_test = features_and_labels[cut:]\n",
    "\n",
    "# df_features_and_labels = pd.DataFrame(features_and_labels)\n",
    "# df_features_and_labels.head()"
   ]
  },
  {
   "cell_type": "code",
   "execution_count": 31,
   "metadata": {},
   "outputs": [],
   "source": [
    "# X_train, Y_train = make_np_array_XY(XY_train)\n",
    "# X_test, Y_test = make_np_array_XY(XY_test)\n",
    "# pd.DataFrame(X_train).head()"
   ]
  },
  {
   "cell_type": "code",
   "execution_count": 32,
   "metadata": {},
   "outputs": [],
   "source": [
    "# pd.DataFrame(Y_train).head()"
   ]
  },
  {
   "cell_type": "code",
   "execution_count": 33,
   "metadata": {},
   "outputs": [],
   "source": [
    "# len(X_train)"
   ]
  },
  {
   "cell_type": "code",
   "execution_count": 34,
   "metadata": {},
   "outputs": [],
   "source": [
    "# len(Y_train)"
   ]
  },
  {
   "cell_type": "code",
   "execution_count": 35,
   "metadata": {},
   "outputs": [],
   "source": [
    "# SVM SVC Classifier with Linear Kernel\n",
    "#C = 1.0  # SVM regularization parameter\n",
    "#svc = svm.SVC(kernel = 'linear', C = C).fit(X_train, Y_train)"
   ]
  },
  {
   "cell_type": "code",
   "execution_count": 36,
   "metadata": {},
   "outputs": [],
   "source": [
    "# Predicted Label\n",
    "#Y_predict = svc.predict(X_test)\n",
    "#(pd.DataFrame(Y_predict)).head()"
   ]
  },
  {
   "cell_type": "code",
   "execution_count": 37,
   "metadata": {},
   "outputs": [],
   "source": [
    "# Actual Label\n",
    "#(pd.DataFrame(Y_test)).head()"
   ]
  },
  {
   "cell_type": "code",
   "execution_count": 38,
   "metadata": {},
   "outputs": [],
   "source": [
    "#print(\"Prev Winner Score : \" + str(clf.score(X_test, Y_test)))\n",
    "#print(\"score : \" + str(svc.score(X_test, Y_test)))\n",
    "#get_f1_score(Y_test, Y_predict, \"Various Performance Measures for SVM SVC Classifier with Linear Kernel\")"
   ]
  },
  {
   "cell_type": "code",
   "execution_count": 39,
   "metadata": {},
   "outputs": [],
   "source": [
    "# Hyper Parameter tuning for SVM\n",
    "\n",
    "# param_grid = {'C': [0.01, 0.1, 1, 10, 100], 'kernel': ['rbf', 'linear']}\n",
    "# clf = GridSearchCV(svm.SVC(class_weight='balanced'), param_grid)\n",
    "# clf = clf.fit(X_train, Y_train)\n",
    "# print(\"Best estimator found by grid search:\")\n",
    "# print(clf.best_estimator_)\n",
    "# from sklearn.metrics import make_scorer, roc_auc_score\n",
    "# auc = make_scorer(roc_auc_score)\n",
    "\n",
    "# mdl = svm.SVC(probability = True, random_state = 1)\n",
    "\n",
    "# rand_list = {\"C\": [0.01, 0.1, 1, 10, 100],\n",
    "#             'kernel': ['linear']}\n",
    "              \n",
    "# rand_search = RandomizedSearchCV(mdl, param_distributions = rand_list, n_iter = 5, n_jobs = 4, cv = 3, random_state = 2017, scoring = auc) \n",
    "# rand_search.fit(X_train, Y_train) \n",
    "# rand_search.cv_results_"
   ]
  }
 ],
 "metadata": {
  "kernelspec": {
   "display_name": "Python 3",
   "language": "python",
   "name": "python3"
  },
  "language_info": {
   "codemirror_mode": {
    "name": "ipython",
    "version": 3
   },
   "file_extension": ".py",
   "mimetype": "text/x-python",
   "name": "python",
   "nbconvert_exporter": "python",
   "pygments_lexer": "ipython3",
   "version": "3.6.2"
  }
 },
 "nbformat": 4,
 "nbformat_minor": 2
}
