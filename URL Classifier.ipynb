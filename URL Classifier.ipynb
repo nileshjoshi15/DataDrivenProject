{
 "cells": [
  {
   "cell_type": "code",
   "execution_count": 1,
   "metadata": {},
   "outputs": [
    {
     "name": "stderr",
     "output_type": "stream",
     "text": [
      "C:\\ProgramData\\Anaconda3\\lib\\site-packages\\sklearn\\cross_validation.py:41: DeprecationWarning: This module was deprecated in version 0.18 in favor of the model_selection module into which all the refactored classes and functions are moved. Also note that the interface of the new CV iterators are different from that of this module. This module will be removed in 0.20.\n",
      "  \"This module will be removed in 0.20.\", DeprecationWarning)\n"
     ]
    }
   ],
   "source": [
    "import pandas as pd\n",
    "import numpy as np\n",
    "import random\n",
    "import matplotlib.pyplot as plt\n",
    "import seaborn as sns\n",
    "import ipaddress as ip\n",
    "import tldextract\n",
    "import pickle as pkl\n",
    "import sklearn.ensemble as ensembleLearning\n",
    "\n",
    "from sklearn.metrics import f1_score, precision_score, recall_score, accuracy_score\n",
    "from sklearn.metrics import confusion_matrix\n",
    "from sklearn import svm\n",
    "from sklearn import linear_model\n",
    "from sklearn import tree\n",
    "from sklearn.naive_bayes import GaussianNB\n",
    "from sklearn.linear_model import LogisticRegression\n",
    "from sklearn import cross_validation\n",
    "\n",
    "from urllib.parse import urlparse\n",
    "from __future__ import division"
   ]
  },
  {
   "cell_type": "code",
   "execution_count": 2,
   "metadata": {},
   "outputs": [
    {
     "data": {
      "text/html": [
       "<div>\n",
       "<style>\n",
       "    .dataframe thead tr:only-child th {\n",
       "        text-align: right;\n",
       "    }\n",
       "\n",
       "    .dataframe thead th {\n",
       "        text-align: left;\n",
       "    }\n",
       "\n",
       "    .dataframe tbody tr th {\n",
       "        vertical-align: top;\n",
       "    }\n",
       "</style>\n",
       "<table border=\"1\" class=\"dataframe\">\n",
       "  <thead>\n",
       "    <tr style=\"text-align: right;\">\n",
       "      <th></th>\n",
       "      <th>domain</th>\n",
       "      <th>ranking</th>\n",
       "      <th>mld_res</th>\n",
       "      <th>mld.ps_res</th>\n",
       "      <th>card_rem</th>\n",
       "      <th>ratio_Rrem</th>\n",
       "      <th>ratio_Arem</th>\n",
       "      <th>jaccard_RR</th>\n",
       "      <th>jaccard_RA</th>\n",
       "      <th>jaccard_AR</th>\n",
       "      <th>jaccard_AA</th>\n",
       "      <th>jaccard_ARrd</th>\n",
       "      <th>jaccard_ARrem</th>\n",
       "      <th>label</th>\n",
       "    </tr>\n",
       "  </thead>\n",
       "  <tbody>\n",
       "    <tr>\n",
       "      <th>0</th>\n",
       "      <td>nobell.it/70ffb52d079109dca5664cce6f317373782/...</td>\n",
       "      <td>10000000</td>\n",
       "      <td>1.0</td>\n",
       "      <td>0.0</td>\n",
       "      <td>18</td>\n",
       "      <td>107.611111</td>\n",
       "      <td>107.277778</td>\n",
       "      <td>0.0</td>\n",
       "      <td>0.0</td>\n",
       "      <td>0.0</td>\n",
       "      <td>0.0</td>\n",
       "      <td>0.8</td>\n",
       "      <td>0.795729</td>\n",
       "      <td>1.0</td>\n",
       "    </tr>\n",
       "    <tr>\n",
       "      <th>1</th>\n",
       "      <td>www.dghjdgf.com/paypal.co.uk/cycgi-bin/webscrc...</td>\n",
       "      <td>10000000</td>\n",
       "      <td>0.0</td>\n",
       "      <td>0.0</td>\n",
       "      <td>11</td>\n",
       "      <td>150.636364</td>\n",
       "      <td>152.272727</td>\n",
       "      <td>0.0</td>\n",
       "      <td>0.0</td>\n",
       "      <td>0.0</td>\n",
       "      <td>0.0</td>\n",
       "      <td>0.0</td>\n",
       "      <td>0.768577</td>\n",
       "      <td>1.0</td>\n",
       "    </tr>\n",
       "    <tr>\n",
       "      <th>2</th>\n",
       "      <td>serviciosbys.com/paypal.cgi.bin.get-into.herf....</td>\n",
       "      <td>10000000</td>\n",
       "      <td>0.0</td>\n",
       "      <td>0.0</td>\n",
       "      <td>14</td>\n",
       "      <td>73.500000</td>\n",
       "      <td>72.642857</td>\n",
       "      <td>0.0</td>\n",
       "      <td>0.0</td>\n",
       "      <td>0.0</td>\n",
       "      <td>0.0</td>\n",
       "      <td>0.0</td>\n",
       "      <td>0.726582</td>\n",
       "      <td>1.0</td>\n",
       "    </tr>\n",
       "    <tr>\n",
       "      <th>3</th>\n",
       "      <td>mail.printakid.com/www.online.americanexpress....</td>\n",
       "      <td>10000000</td>\n",
       "      <td>0.0</td>\n",
       "      <td>0.0</td>\n",
       "      <td>6</td>\n",
       "      <td>562.000000</td>\n",
       "      <td>590.666667</td>\n",
       "      <td>0.0</td>\n",
       "      <td>0.0</td>\n",
       "      <td>0.0</td>\n",
       "      <td>0.0</td>\n",
       "      <td>0.0</td>\n",
       "      <td>0.859640</td>\n",
       "      <td>1.0</td>\n",
       "    </tr>\n",
       "    <tr>\n",
       "      <th>4</th>\n",
       "      <td>thewhiskeydregs.com/wp-content/themes/widescre...</td>\n",
       "      <td>10000000</td>\n",
       "      <td>0.0</td>\n",
       "      <td>0.0</td>\n",
       "      <td>8</td>\n",
       "      <td>29.000000</td>\n",
       "      <td>24.125000</td>\n",
       "      <td>0.0</td>\n",
       "      <td>0.0</td>\n",
       "      <td>0.0</td>\n",
       "      <td>0.0</td>\n",
       "      <td>0.0</td>\n",
       "      <td>0.748971</td>\n",
       "      <td>1.0</td>\n",
       "    </tr>\n",
       "  </tbody>\n",
       "</table>\n",
       "</div>"
      ],
      "text/plain": [
       "                                              domain   ranking  mld_res  \\\n",
       "0  nobell.it/70ffb52d079109dca5664cce6f317373782/...  10000000      1.0   \n",
       "1  www.dghjdgf.com/paypal.co.uk/cycgi-bin/webscrc...  10000000      0.0   \n",
       "2  serviciosbys.com/paypal.cgi.bin.get-into.herf....  10000000      0.0   \n",
       "3  mail.printakid.com/www.online.americanexpress....  10000000      0.0   \n",
       "4  thewhiskeydregs.com/wp-content/themes/widescre...  10000000      0.0   \n",
       "\n",
       "   mld.ps_res  card_rem  ratio_Rrem  ratio_Arem  jaccard_RR  jaccard_RA  \\\n",
       "0         0.0        18  107.611111  107.277778         0.0         0.0   \n",
       "1         0.0        11  150.636364  152.272727         0.0         0.0   \n",
       "2         0.0        14   73.500000   72.642857         0.0         0.0   \n",
       "3         0.0         6  562.000000  590.666667         0.0         0.0   \n",
       "4         0.0         8   29.000000   24.125000         0.0         0.0   \n",
       "\n",
       "   jaccard_AR  jaccard_AA  jaccard_ARrd  jaccard_ARrem  label  \n",
       "0         0.0         0.0           0.8       0.795729    1.0  \n",
       "1         0.0         0.0           0.0       0.768577    1.0  \n",
       "2         0.0         0.0           0.0       0.726582    1.0  \n",
       "3         0.0         0.0           0.0       0.859640    1.0  \n",
       "4         0.0         0.0           0.0       0.748971    1.0  "
      ]
     },
     "execution_count": 2,
     "metadata": {},
     "output_type": "execute_result"
    }
   ],
   "source": [
    "# Original Dataset with Domain + Label with other features value\n",
    "data = pd.read_csv('DataSet/PhishLegitimateDataSet.csv')\n",
    "data.head()"
   ]
  },
  {
   "cell_type": "code",
   "execution_count": 3,
   "metadata": {},
   "outputs": [],
   "source": [
    "# Get domain and label only : 1st way\n",
    "header = ['domain', 'label']\n",
    "# Export to new CSV\n",
    "data.to_csv('DataSet/PhishLegitimateDataSet_Cleaned1.csv', columns = header, index = False)"
   ]
  },
  {
   "cell_type": "code",
   "execution_count": 4,
   "metadata": {},
   "outputs": [
    {
     "data": {
      "text/html": [
       "<div>\n",
       "<style>\n",
       "    .dataframe thead tr:only-child th {\n",
       "        text-align: right;\n",
       "    }\n",
       "\n",
       "    .dataframe thead th {\n",
       "        text-align: left;\n",
       "    }\n",
       "\n",
       "    .dataframe tbody tr th {\n",
       "        vertical-align: top;\n",
       "    }\n",
       "</style>\n",
       "<table border=\"1\" class=\"dataframe\">\n",
       "  <thead>\n",
       "    <tr style=\"text-align: right;\">\n",
       "      <th></th>\n",
       "      <th>domain</th>\n",
       "      <th>label</th>\n",
       "    </tr>\n",
       "  </thead>\n",
       "  <tbody>\n",
       "    <tr>\n",
       "      <th>0</th>\n",
       "      <td>nobell.it/70ffb52d079109dca5664cce6f317373782/...</td>\n",
       "      <td>1.0</td>\n",
       "    </tr>\n",
       "    <tr>\n",
       "      <th>1</th>\n",
       "      <td>www.dghjdgf.com/paypal.co.uk/cycgi-bin/webscrc...</td>\n",
       "      <td>1.0</td>\n",
       "    </tr>\n",
       "    <tr>\n",
       "      <th>2</th>\n",
       "      <td>serviciosbys.com/paypal.cgi.bin.get-into.herf....</td>\n",
       "      <td>1.0</td>\n",
       "    </tr>\n",
       "    <tr>\n",
       "      <th>3</th>\n",
       "      <td>mail.printakid.com/www.online.americanexpress....</td>\n",
       "      <td>1.0</td>\n",
       "    </tr>\n",
       "    <tr>\n",
       "      <th>4</th>\n",
       "      <td>thewhiskeydregs.com/wp-content/themes/widescre...</td>\n",
       "      <td>1.0</td>\n",
       "    </tr>\n",
       "  </tbody>\n",
       "</table>\n",
       "</div>"
      ],
      "text/plain": [
       "                                              domain  label\n",
       "0  nobell.it/70ffb52d079109dca5664cce6f317373782/...    1.0\n",
       "1  www.dghjdgf.com/paypal.co.uk/cycgi-bin/webscrc...    1.0\n",
       "2  serviciosbys.com/paypal.cgi.bin.get-into.herf....    1.0\n",
       "3  mail.printakid.com/www.online.americanexpress....    1.0\n",
       "4  thewhiskeydregs.com/wp-content/themes/widescre...    1.0"
      ]
     },
     "execution_count": 4,
     "metadata": {},
     "output_type": "execute_result"
    }
   ],
   "source": [
    "# Get domain and label only : 2nd way\n",
    "dfRequired = data[['domain', 'label']]\n",
    "# Export to new CSV\n",
    "dfRequired.to_csv('DataSet/PhishLegitimateDataSet_Cleaned2.csv', index = False)\n",
    "dfRequired.head()"
   ]
  },
  {
   "cell_type": "code",
   "execution_count": 5,
   "metadata": {},
   "outputs": [],
   "source": [
    "# Helper Functions\n",
    "def get_f1_score(Y_test, Y_predict, title):\n",
    "    test_size = len(Y_test)\n",
    "    score = 0\n",
    "    \n",
    "    for i in range(test_size):\n",
    "        if Y_predict[i] == Y_test[i]:\n",
    "            score += 1\n",
    "            \n",
    "    print('Got %s out of %s' % (score, test_size))\n",
    "    print('f1 = %.2f' % (f1_score(Y_test, Y_predict, average = 'binary')))\n",
    "    print('precision = %.2f' % (precision_score(Y_test, Y_predict, average = 'binary')))\n",
    "    print('recall = %.2f' % (recall_score(Y_test, Y_predict, average = 'binary')))\n",
    "    print('accuracy = %.2f' % (accuracy_score(Y_test, Y_predict)))\n",
    "\n",
    "    bar_width = 0.20\n",
    "    opacity = 0.4\n",
    "    error_config = {'ecolor': '0.3'}\n",
    "    index = np.arange(1)\n",
    "\n",
    "    fig, ax = plt.subplots()\n",
    "\n",
    "    ax.bar(index, f1_score(Y_test, Y_predict, average = 'binary'), bar_width,\n",
    "           alpha = opacity, color = 'b',\n",
    "           error_kw = error_config,\n",
    "           label = 'F Score')\n",
    "    ax.bar(index + bar_width * 1, precision_score(Y_test, Y_predict, average = 'binary'), bar_width,\n",
    "           alpha = opacity, color = 'r',\n",
    "           error_kw = error_config,\n",
    "           label = 'Precision')\n",
    "    ax.bar(index + bar_width * 2, recall_score(Y_test, Y_predict, average = 'binary'), bar_width,\n",
    "           alpha = opacity, color = 'g',\n",
    "           error_kw = error_config,\n",
    "           label = 'Recall')\n",
    "    ax.bar(index + bar_width * 3, accuracy_score(Y_test, Y_predict), bar_width,\n",
    "           alpha = opacity, color = 'y',\n",
    "           error_kw = error_config,\n",
    "           label = 'Accuracy')\n",
    "    ax.set_xlabel('Measures')\n",
    "    ax.set_ylabel('Scores')\n",
    "    ax.set_title(title)\n",
    "    ax.tick_params(\n",
    "        axis = 'x',           # changes apply to the x-axis\n",
    "        which = 'both',       # both major and minor ticks are affected\n",
    "        bottom = False,       # ticks along the bottom edge are off\n",
    "        top = False,          # ticks along the top edge are off\n",
    "        labelbottom = False)  # labels along the bottom edge are off\n",
    "    ax.legend()\n",
    "    fig.tight_layout()\n",
    "    plt.show()"
   ]
  },
  {
   "cell_type": "code",
   "execution_count": 6,
   "metadata": {},
   "outputs": [],
   "source": [
    "# Helper Functions\n",
    "def get_domain_from_url(url):\n",
    "    return url[:url.find('/',8)]\n",
    "\n",
    "def get_path_from_url(url):\n",
    "    return url[url.find('/',8):]\n",
    "\n",
    "def get_length(str):\n",
    "    return len(str)\n",
    "\n",
    "def get_forward_slash_count(str):\n",
    "    return str.count('/')\n",
    "\n",
    "def get_dot_count(str):\n",
    "    return str.count('.')\n",
    "\n",
    "def get_delimeter_count(str):\n",
    "    count = 0\n",
    "    delim = [';', '_', '?', '=', '&']\n",
    "    for each in str:\n",
    "        if each in delim:\n",
    "            count = count + 1\n",
    "    return count\n",
    "\n",
    "def isip(uri):\n",
    "    try:\n",
    "        if ip.ip_address(uri):\n",
    "            return 1\n",
    "    except:\n",
    "        return 0\n",
    "    \n",
    "def get_hyphen_count(str):\n",
    "    return str.count('-')\n",
    "\n",
    "def get_at_count(str):\n",
    "    return str.count('@')\n",
    "\n",
    "def get_amp_count(str):\n",
    "    return str.count('&')\n",
    "\n",
    "# LEXICAL FEATURES\n",
    "# URL Related\n",
    "def get_forward_slash_count_in_url(url):\n",
    "    return get_forward_slash_count(url)\n",
    "\n",
    "def get_dot_count_in_url(url):\n",
    "    return get_dot_count(url)\n",
    "\n",
    "def get_url_length(url):\n",
    "    return get_length(url)\n",
    "\n",
    "# Domain Related\n",
    "def get_forward_slash_count_in_domain(url):\n",
    "    return get_forward_slash_count(get_domain_from_url(url))\n",
    "\n",
    "def get_dot_count_in_domain(url):\n",
    "    return get_dot_count(get_domain_from_url(url))\n",
    "\n",
    "def get_domain_length(url):\n",
    "    return get_length(get_domain_from_url(url))\n",
    "\n",
    "# Path Related\n",
    "def get_forward_slash_count_in_path(url):\n",
    "    return get_forward_slash_count(get_path_from_url(url))\n",
    "\n",
    "def get_dot_count_in_path(url):\n",
    "    return get_dot_count(get_path_from_url(url))\n",
    "\n",
    "def get_path_length(url):\n",
    "    return get_length(get_path_from_url(url))"
   ]
  },
  {
   "cell_type": "code",
   "execution_count": 7,
   "metadata": {},
   "outputs": [],
   "source": [
    "def make_feature_vector(from_index, url, label):\n",
    "    feature_vector = []\n",
    "    for i in range(len(url)):\n",
    "        s = url[from_index + i]\n",
    "        if len(s) > 0:\n",
    "            s = str(s)\n",
    "            path = urlparse(s)\n",
    "            ext = tldextract.extract(s)\n",
    "    \n",
    "            feature = []\n",
    "\n",
    "            #Syntatic\n",
    "            feature.append(isip(ext.domain))\n",
    "            feature.append(get_at_count(s))\n",
    "            feature.append(get_hyphen_count(s))\n",
    "            feature.append(get_amp_count(s))\n",
    "            feature.append(get_delimeter_count(s))\n",
    "        \n",
    "            #URL Related\n",
    "            feature.append(get_forward_slash_count_in_url(s))\n",
    "            feature.append(get_dot_count_in_url(s))\n",
    "            feature.append(get_url_length(s))\n",
    "\n",
    "            #Sub-domain/Domain Related\n",
    "            feature.append(get_forward_slash_count_in_domain(s))\n",
    "            feature.append(get_dot_count_in_domain(s))\n",
    "            feature.append(get_domain_length(s))\n",
    "\n",
    "            #Path Related\n",
    "            feature.append(get_forward_slash_count_in_path(s))\n",
    "            feature.append(get_dot_count_in_path(s))\n",
    "            feature.append(get_path_length(s))\n",
    "\n",
    "            feature.append(len(path.netloc)) # domain name length\n",
    "            feature.append(len(path.query))# number of queries\n",
    "            \n",
    "            #feature.append(label[from_index + i])\n",
    "        feature_vector.append(feature)\n",
    "\n",
    "    return feature_vector"
   ]
  },
  {
   "cell_type": "code",
   "execution_count": 8,
   "metadata": {},
   "outputs": [],
   "source": [
    "def make_np_array_XY(xy):\n",
    "    a = np.array(xy)\n",
    "    x = a[:, 0:-1]\n",
    "    y = a[:, -1]\n",
    "    return x, y"
   ]
  },
  {
   "cell_type": "code",
   "execution_count": 9,
   "metadata": {},
   "outputs": [],
   "source": [
    "from_index = 30000\n",
    "to_index = 65000\n",
    "cut_ratio = 0.9"
   ]
  },
  {
   "cell_type": "code",
   "execution_count": 10,
   "metadata": {},
   "outputs": [
    {
     "data": {
      "text/plain": [
       "30000    prades-consulting.com/www.paypal.fr/bd6e020e9c...\n",
       "30001                                  arcot6.mcscsec.com/\n",
       "30002    'aricilikmarketi.com/templates/estime_redberry...\n",
       "30003    www.cocodelagalea.es/imagenes/www.vodafone.co....\n",
       "30004    bankruptcyarmor.com/wp-includes/js/crop/www.vo...\n",
       "Name: domain, dtype: object"
      ]
     },
     "execution_count": 10,
     "metadata": {},
     "output_type": "execute_result"
    }
   ],
   "source": [
    "url = dfRequired[['domain']].iloc[from_index:to_index, 0]\n",
    "url.head()"
   ]
  },
  {
   "cell_type": "code",
   "execution_count": 11,
   "metadata": {},
   "outputs": [
    {
     "data": {
      "text/plain": [
       "30000    1.0\n",
       "30001    1.0\n",
       "30002    1.0\n",
       "30003    1.0\n",
       "30004    1.0\n",
       "Name: label, dtype: float64"
      ]
     },
     "execution_count": 11,
     "metadata": {},
     "output_type": "execute_result"
    }
   ],
   "source": [
    "label = dfRequired[['label']].iloc[from_index:to_index, 0]\n",
    "label.head()"
   ]
  },
  {
   "cell_type": "code",
   "execution_count": 12,
   "metadata": {},
   "outputs": [
    {
     "name": "stdout",
     "output_type": "stream",
     "text": [
      "Total Count : 35000\n"
     ]
    }
   ],
   "source": [
    "print(\"Total Count : \" + str(len(label)))"
   ]
  },
  {
   "cell_type": "code",
   "execution_count": 13,
   "metadata": {},
   "outputs": [],
   "source": [
    "def getFeatures(url, label): \n",
    "    s = str(url)\n",
    "    path = urlparse(url)\n",
    "    ext = tldextract.extract(url)\n",
    "\n",
    "    feature = []\n",
    "\n",
    "    #Syntatic\n",
    "    feature.append(isip(ext.domain))\n",
    "    feature.append(get_at_count(s))\n",
    "    feature.append(get_hyphen_count(s))\n",
    "    feature.append(get_amp_count(s))\n",
    "    feature.append(get_delimeter_count(s))\n",
    "\n",
    "    #URL Related\n",
    "    feature.append(get_forward_slash_count_in_url(s))\n",
    "    feature.append(get_dot_count_in_url(s))\n",
    "    feature.append(get_url_length(s))\n",
    "\n",
    "    #Sub-domain/Domain Related\n",
    "    feature.append(get_forward_slash_count_in_domain(s))\n",
    "    feature.append(get_dot_count_in_domain(s))\n",
    "    feature.append(get_domain_length(s))\n",
    "\n",
    "    #Path Related\n",
    "    feature.append(get_forward_slash_count_in_path(s))\n",
    "    feature.append(get_dot_count_in_path(s))\n",
    "    feature.append(get_path_length(s))\n",
    "\n",
    "    feature.append(len(path.netloc)) # domain name length\n",
    "    feature.append(len(path.query))# number of queries\n",
    "\n",
    "    feature.append(label)\n",
    "    return feature"
   ]
  },
  {
   "cell_type": "code",
   "execution_count": 14,
   "metadata": {},
   "outputs": [
    {
     "data": {
      "text/html": [
       "<div>\n",
       "<style>\n",
       "    .dataframe thead tr:only-child th {\n",
       "        text-align: right;\n",
       "    }\n",
       "\n",
       "    .dataframe thead th {\n",
       "        text-align: left;\n",
       "    }\n",
       "\n",
       "    .dataframe tbody tr th {\n",
       "        vertical-align: top;\n",
       "    }\n",
       "</style>\n",
       "<table border=\"1\" class=\"dataframe\">\n",
       "  <thead>\n",
       "    <tr style=\"text-align: right;\">\n",
       "      <th></th>\n",
       "      <th>is ip</th>\n",
       "      <th>@ count</th>\n",
       "      <th>- count</th>\n",
       "      <th>&amp; count</th>\n",
       "      <th>delimeter count</th>\n",
       "      <th>url / count</th>\n",
       "      <th>url . count</th>\n",
       "      <th>url length</th>\n",
       "      <th>domain/subdomain / count</th>\n",
       "      <th>domain/subdomain . count</th>\n",
       "      <th>domain/subdomain length</th>\n",
       "      <th>path / count</th>\n",
       "      <th>path . count</th>\n",
       "      <th>path length</th>\n",
       "      <th>domain name length</th>\n",
       "      <th>query count</th>\n",
       "      <th>label</th>\n",
       "    </tr>\n",
       "  </thead>\n",
       "  <tbody>\n",
       "  </tbody>\n",
       "</table>\n",
       "</div>"
      ],
      "text/plain": [
       "Empty DataFrame\n",
       "Columns: [ is ip ,  @ count ,  - count ,  & count ,  delimeter count ,  url / count ,  url . count ,  url length ,  domain/subdomain / count ,  domain/subdomain . count ,  domain/subdomain length ,  path / count ,  path . count ,  path length , domain name length, query count, label]\n",
       "Index: []"
      ]
     },
     "execution_count": 14,
     "metadata": {},
     "output_type": "execute_result"
    }
   ],
   "source": [
    "featureSet = pd.DataFrame(columns = (' is ip ',' @ count ',' - count ',' & count ',' delimeter count ',\\\n",
    "                                     ' url / count ',' url . count ',' url length ',\\\n",
    "                                     ' domain/subdomain / count ',' domain/subdomain . count ',' domain/subdomain length ',\\\n",
    "                                     ' path / count ',' path . count ',' path length ',\\\n",
    "                                     'domain name length','query count',\\\n",
    "                                     'label'))\n",
    "featureSet.head()    "
   ]
  },
  {
   "cell_type": "code",
   "execution_count": 15,
   "metadata": {},
   "outputs": [
    {
     "data": {
      "text/html": [
       "<div>\n",
       "<style>\n",
       "    .dataframe thead tr:only-child th {\n",
       "        text-align: right;\n",
       "    }\n",
       "\n",
       "    .dataframe thead th {\n",
       "        text-align: left;\n",
       "    }\n",
       "\n",
       "    .dataframe tbody tr th {\n",
       "        vertical-align: top;\n",
       "    }\n",
       "</style>\n",
       "<table border=\"1\" class=\"dataframe\">\n",
       "  <thead>\n",
       "    <tr style=\"text-align: right;\">\n",
       "      <th></th>\n",
       "      <th>domain</th>\n",
       "      <th>label</th>\n",
       "    </tr>\n",
       "  </thead>\n",
       "  <tbody>\n",
       "    <tr>\n",
       "      <th>30000</th>\n",
       "      <td>prades-consulting.com/www.paypal.fr/bd6e020e9c...</td>\n",
       "      <td>1.0</td>\n",
       "    </tr>\n",
       "    <tr>\n",
       "      <th>30001</th>\n",
       "      <td>arcot6.mcscsec.com/</td>\n",
       "      <td>1.0</td>\n",
       "    </tr>\n",
       "    <tr>\n",
       "      <th>30002</th>\n",
       "      <td>'aricilikmarketi.com/templates/estime_redberry...</td>\n",
       "      <td>1.0</td>\n",
       "    </tr>\n",
       "    <tr>\n",
       "      <th>30003</th>\n",
       "      <td>www.cocodelagalea.es/imagenes/www.vodafone.co....</td>\n",
       "      <td>1.0</td>\n",
       "    </tr>\n",
       "    <tr>\n",
       "      <th>30004</th>\n",
       "      <td>bankruptcyarmor.com/wp-includes/js/crop/www.vo...</td>\n",
       "      <td>1.0</td>\n",
       "    </tr>\n",
       "  </tbody>\n",
       "</table>\n",
       "</div>"
      ],
      "text/plain": [
       "                                                  domain  label\n",
       "30000  prades-consulting.com/www.paypal.fr/bd6e020e9c...    1.0\n",
       "30001                                arcot6.mcscsec.com/    1.0\n",
       "30002  'aricilikmarketi.com/templates/estime_redberry...    1.0\n",
       "30003  www.cocodelagalea.es/imagenes/www.vodafone.co....    1.0\n",
       "30004  bankruptcyarmor.com/wp-includes/js/crop/www.vo...    1.0"
      ]
     },
     "execution_count": 15,
     "metadata": {},
     "output_type": "execute_result"
    }
   ],
   "source": [
    "dfRequired_trim = dfRequired[from_index:to_index]\n",
    "dfRequired_trim.head()"
   ]
  },
  {
   "cell_type": "code",
   "execution_count": 16,
   "metadata": {},
   "outputs": [
    {
     "data": {
      "text/plain": [
       "35000"
      ]
     },
     "execution_count": 16,
     "metadata": {},
     "output_type": "execute_result"
    }
   ],
   "source": [
    "len(dfRequired_trim)"
   ]
  },
  {
   "cell_type": "code",
   "execution_count": 17,
   "metadata": {},
   "outputs": [
    {
     "name": "stdout",
     "output_type": "stream",
     "text": [
      "prades-consulting.com/www.paypal.fr/bd6e020e9ce0350d5ef1820fb309193f/\n"
     ]
    }
   ],
   "source": [
    "print(dfRequired_trim[\"domain\"].loc[0+from_index])"
   ]
  },
  {
   "cell_type": "code",
   "execution_count": 18,
   "metadata": {},
   "outputs": [
    {
     "data": {
      "text/html": [
       "<div>\n",
       "<style>\n",
       "    .dataframe thead tr:only-child th {\n",
       "        text-align: right;\n",
       "    }\n",
       "\n",
       "    .dataframe thead th {\n",
       "        text-align: left;\n",
       "    }\n",
       "\n",
       "    .dataframe tbody tr th {\n",
       "        vertical-align: top;\n",
       "    }\n",
       "</style>\n",
       "<table border=\"1\" class=\"dataframe\">\n",
       "  <thead>\n",
       "    <tr style=\"text-align: right;\">\n",
       "      <th></th>\n",
       "      <th>is ip</th>\n",
       "      <th>@ count</th>\n",
       "      <th>- count</th>\n",
       "      <th>&amp; count</th>\n",
       "      <th>delimeter count</th>\n",
       "      <th>url / count</th>\n",
       "      <th>url . count</th>\n",
       "      <th>url length</th>\n",
       "      <th>domain/subdomain / count</th>\n",
       "      <th>domain/subdomain . count</th>\n",
       "      <th>domain/subdomain length</th>\n",
       "      <th>path / count</th>\n",
       "      <th>path . count</th>\n",
       "      <th>path length</th>\n",
       "      <th>domain name length</th>\n",
       "      <th>query count</th>\n",
       "      <th>label</th>\n",
       "    </tr>\n",
       "  </thead>\n",
       "  <tbody>\n",
       "    <tr>\n",
       "      <th>0</th>\n",
       "      <td>0.0</td>\n",
       "      <td>0.0</td>\n",
       "      <td>1.0</td>\n",
       "      <td>0.0</td>\n",
       "      <td>0.0</td>\n",
       "      <td>3.0</td>\n",
       "      <td>3.0</td>\n",
       "      <td>69.0</td>\n",
       "      <td>0.0</td>\n",
       "      <td>1.0</td>\n",
       "      <td>21.0</td>\n",
       "      <td>3.0</td>\n",
       "      <td>2.0</td>\n",
       "      <td>48.0</td>\n",
       "      <td>0.0</td>\n",
       "      <td>0.0</td>\n",
       "      <td>1.0</td>\n",
       "    </tr>\n",
       "    <tr>\n",
       "      <th>1</th>\n",
       "      <td>0.0</td>\n",
       "      <td>0.0</td>\n",
       "      <td>0.0</td>\n",
       "      <td>0.0</td>\n",
       "      <td>0.0</td>\n",
       "      <td>1.0</td>\n",
       "      <td>2.0</td>\n",
       "      <td>19.0</td>\n",
       "      <td>0.0</td>\n",
       "      <td>2.0</td>\n",
       "      <td>18.0</td>\n",
       "      <td>1.0</td>\n",
       "      <td>0.0</td>\n",
       "      <td>1.0</td>\n",
       "      <td>0.0</td>\n",
       "      <td>0.0</td>\n",
       "      <td>1.0</td>\n",
       "    </tr>\n",
       "    <tr>\n",
       "      <th>2</th>\n",
       "      <td>0.0</td>\n",
       "      <td>0.0</td>\n",
       "      <td>0.0</td>\n",
       "      <td>0.0</td>\n",
       "      <td>1.0</td>\n",
       "      <td>5.0</td>\n",
       "      <td>2.0</td>\n",
       "      <td>86.0</td>\n",
       "      <td>0.0</td>\n",
       "      <td>1.0</td>\n",
       "      <td>20.0</td>\n",
       "      <td>5.0</td>\n",
       "      <td>1.0</td>\n",
       "      <td>66.0</td>\n",
       "      <td>0.0</td>\n",
       "      <td>0.0</td>\n",
       "      <td>1.0</td>\n",
       "    </tr>\n",
       "    <tr>\n",
       "      <th>3</th>\n",
       "      <td>0.0</td>\n",
       "      <td>0.0</td>\n",
       "      <td>0.0</td>\n",
       "      <td>0.0</td>\n",
       "      <td>0.0</td>\n",
       "      <td>3.0</td>\n",
       "      <td>6.0</td>\n",
       "      <td>57.0</td>\n",
       "      <td>0.0</td>\n",
       "      <td>2.0</td>\n",
       "      <td>20.0</td>\n",
       "      <td>3.0</td>\n",
       "      <td>4.0</td>\n",
       "      <td>37.0</td>\n",
       "      <td>0.0</td>\n",
       "      <td>0.0</td>\n",
       "      <td>1.0</td>\n",
       "    </tr>\n",
       "    <tr>\n",
       "      <th>4</th>\n",
       "      <td>0.0</td>\n",
       "      <td>0.0</td>\n",
       "      <td>1.0</td>\n",
       "      <td>0.0</td>\n",
       "      <td>0.0</td>\n",
       "      <td>5.0</td>\n",
       "      <td>5.0</td>\n",
       "      <td>67.0</td>\n",
       "      <td>0.0</td>\n",
       "      <td>1.0</td>\n",
       "      <td>19.0</td>\n",
       "      <td>5.0</td>\n",
       "      <td>4.0</td>\n",
       "      <td>48.0</td>\n",
       "      <td>0.0</td>\n",
       "      <td>0.0</td>\n",
       "      <td>1.0</td>\n",
       "    </tr>\n",
       "  </tbody>\n",
       "</table>\n",
       "</div>"
      ],
      "text/plain": [
       "    is ip    @ count    - count    & count    delimeter count    url / count   \\\n",
       "0      0.0        0.0        1.0        0.0                0.0            3.0   \n",
       "1      0.0        0.0        0.0        0.0                0.0            1.0   \n",
       "2      0.0        0.0        0.0        0.0                1.0            5.0   \n",
       "3      0.0        0.0        0.0        0.0                0.0            3.0   \n",
       "4      0.0        0.0        1.0        0.0                0.0            5.0   \n",
       "\n",
       "    url . count    url length    domain/subdomain / count   \\\n",
       "0            3.0          69.0                         0.0   \n",
       "1            2.0          19.0                         0.0   \n",
       "2            2.0          86.0                         0.0   \n",
       "3            6.0          57.0                         0.0   \n",
       "4            5.0          67.0                         0.0   \n",
       "\n",
       "    domain/subdomain . count    domain/subdomain length    path / count   \\\n",
       "0                         1.0                       21.0             3.0   \n",
       "1                         2.0                       18.0             1.0   \n",
       "2                         1.0                       20.0             5.0   \n",
       "3                         2.0                       20.0             3.0   \n",
       "4                         1.0                       19.0             5.0   \n",
       "\n",
       "    path . count    path length   domain name length  query count  label  \n",
       "0             2.0           48.0                 0.0          0.0    1.0  \n",
       "1             0.0            1.0                 0.0          0.0    1.0  \n",
       "2             1.0           66.0                 0.0          0.0    1.0  \n",
       "3             4.0           37.0                 0.0          0.0    1.0  \n",
       "4             4.0           48.0                 0.0          0.0    1.0  "
      ]
     },
     "execution_count": 18,
     "metadata": {},
     "output_type": "execute_result"
    }
   ],
   "source": [
    "for i in range(len(dfRequired_trim)):\n",
    "    features = getFeatures(dfRequired_trim[\"domain\"].loc[i+from_index], dfRequired_trim[\"label\"].loc[i+from_index])  \n",
    "    featureSet.loc[i] = features\n",
    "\n",
    "featureSet.head()  "
   ]
  },
  {
   "cell_type": "code",
   "execution_count": 19,
   "metadata": {},
   "outputs": [
    {
     "data": {
      "image/png": "[encoded data removed]",
      "text/plain": [
       "<matplotlib.figure.Figure at 0x418f358>"
      ]
     },
     "metadata": {},
     "output_type": "display_data"
    }
   ],
   "source": [
    "sns.set(style = \"darkgrid\")\n",
    "sns.distplot(featureSet[featureSet['label'] == 0.0][' url length '], color='red', label = 'Phish URLs')\n",
    "sns.distplot(featureSet[featureSet['label'] == 1.0][' url length '], color='green', label = 'Legitimate URLs')\n",
    "plt.title('Url Length Distribution')\n",
    "plt.legend(loc = 'upper right')\n",
    "plt.xlabel('Length of URL')\n",
    "\n",
    "plt.show()"
   ]
  },
  {
   "cell_type": "code",
   "execution_count": 27,
   "metadata": {},
   "outputs": [
    {
     "data": {
      "text/plain": [
       "label\n",
       "0.0    17098\n",
       "1.0    17902\n",
       "dtype: int64"
      ]
     },
     "execution_count": 27,
     "metadata": {},
     "output_type": "execute_result"
    }
   ],
   "source": [
    "featureSet.groupby(featureSet['label']).size()"
   ]
  },
  {
   "cell_type": "code",
   "execution_count": 28,
   "metadata": {},
   "outputs": [],
   "source": [
    "import sklearn\n",
    "featureSet = sklearn.utils.shuffle(featureSet)"
   ]
  },
  {
   "cell_type": "code",
   "execution_count": 29,
   "metadata": {},
   "outputs": [],
   "source": [
    "X = featureSet.drop(['label'], axis = 1).values\n",
    "y = featureSet['label'].values"
   ]
  },
  {
   "cell_type": "code",
   "execution_count": 30,
   "metadata": {},
   "outputs": [
    {
     "data": {
      "text/html": [
       "<div>\n",
       "<style>\n",
       "    .dataframe thead tr:only-child th {\n",
       "        text-align: right;\n",
       "    }\n",
       "\n",
       "    .dataframe thead th {\n",
       "        text-align: left;\n",
       "    }\n",
       "\n",
       "    .dataframe tbody tr th {\n",
       "        vertical-align: top;\n",
       "    }\n",
       "</style>\n",
       "<table border=\"1\" class=\"dataframe\">\n",
       "  <thead>\n",
       "    <tr style=\"text-align: right;\">\n",
       "      <th></th>\n",
       "      <th>0</th>\n",
       "      <th>1</th>\n",
       "      <th>2</th>\n",
       "      <th>3</th>\n",
       "      <th>4</th>\n",
       "      <th>5</th>\n",
       "      <th>6</th>\n",
       "      <th>7</th>\n",
       "      <th>8</th>\n",
       "      <th>9</th>\n",
       "      <th>10</th>\n",
       "      <th>11</th>\n",
       "      <th>12</th>\n",
       "      <th>13</th>\n",
       "      <th>14</th>\n",
       "      <th>15</th>\n",
       "    </tr>\n",
       "  </thead>\n",
       "  <tbody>\n",
       "    <tr>\n",
       "      <th>0</th>\n",
       "      <td>0.0</td>\n",
       "      <td>0.0</td>\n",
       "      <td>0.0</td>\n",
       "      <td>0.0</td>\n",
       "      <td>0.0</td>\n",
       "      <td>1.0</td>\n",
       "      <td>4.0</td>\n",
       "      <td>24.0</td>\n",
       "      <td>0.0</td>\n",
       "      <td>4.0</td>\n",
       "      <td>23.0</td>\n",
       "      <td>1.0</td>\n",
       "      <td>0.0</td>\n",
       "      <td>1.0</td>\n",
       "      <td>0.0</td>\n",
       "      <td>0.0</td>\n",
       "    </tr>\n",
       "    <tr>\n",
       "      <th>1</th>\n",
       "      <td>0.0</td>\n",
       "      <td>0.0</td>\n",
       "      <td>0.0</td>\n",
       "      <td>0.0</td>\n",
       "      <td>0.0</td>\n",
       "      <td>1.0</td>\n",
       "      <td>3.0</td>\n",
       "      <td>37.0</td>\n",
       "      <td>0.0</td>\n",
       "      <td>2.0</td>\n",
       "      <td>29.0</td>\n",
       "      <td>1.0</td>\n",
       "      <td>1.0</td>\n",
       "      <td>8.0</td>\n",
       "      <td>0.0</td>\n",
       "      <td>0.0</td>\n",
       "    </tr>\n",
       "    <tr>\n",
       "      <th>2</th>\n",
       "      <td>0.0</td>\n",
       "      <td>0.0</td>\n",
       "      <td>0.0</td>\n",
       "      <td>0.0</td>\n",
       "      <td>1.0</td>\n",
       "      <td>3.0</td>\n",
       "      <td>2.0</td>\n",
       "      <td>38.0</td>\n",
       "      <td>0.0</td>\n",
       "      <td>2.0</td>\n",
       "      <td>11.0</td>\n",
       "      <td>3.0</td>\n",
       "      <td>0.0</td>\n",
       "      <td>27.0</td>\n",
       "      <td>0.0</td>\n",
       "      <td>0.0</td>\n",
       "    </tr>\n",
       "    <tr>\n",
       "      <th>3</th>\n",
       "      <td>0.0</td>\n",
       "      <td>0.0</td>\n",
       "      <td>1.0</td>\n",
       "      <td>1.0</td>\n",
       "      <td>6.0</td>\n",
       "      <td>5.0</td>\n",
       "      <td>6.0</td>\n",
       "      <td>79.0</td>\n",
       "      <td>0.0</td>\n",
       "      <td>6.0</td>\n",
       "      <td>36.0</td>\n",
       "      <td>5.0</td>\n",
       "      <td>0.0</td>\n",
       "      <td>43.0</td>\n",
       "      <td>0.0</td>\n",
       "      <td>23.0</td>\n",
       "    </tr>\n",
       "    <tr>\n",
       "      <th>4</th>\n",
       "      <td>0.0</td>\n",
       "      <td>0.0</td>\n",
       "      <td>0.0</td>\n",
       "      <td>0.0</td>\n",
       "      <td>0.0</td>\n",
       "      <td>6.0</td>\n",
       "      <td>2.0</td>\n",
       "      <td>45.0</td>\n",
       "      <td>0.0</td>\n",
       "      <td>2.0</td>\n",
       "      <td>13.0</td>\n",
       "      <td>6.0</td>\n",
       "      <td>0.0</td>\n",
       "      <td>32.0</td>\n",
       "      <td>0.0</td>\n",
       "      <td>0.0</td>\n",
       "    </tr>\n",
       "  </tbody>\n",
       "</table>\n",
       "</div>"
      ],
      "text/plain": [
       "    0    1    2    3    4    5    6     7    8    9     10   11   12    13  \\\n",
       "0  0.0  0.0  0.0  0.0  0.0  1.0  4.0  24.0  0.0  4.0  23.0  1.0  0.0   1.0   \n",
       "1  0.0  0.0  0.0  0.0  0.0  1.0  3.0  37.0  0.0  2.0  29.0  1.0  1.0   8.0   \n",
       "2  0.0  0.0  0.0  0.0  1.0  3.0  2.0  38.0  0.0  2.0  11.0  3.0  0.0  27.0   \n",
       "3  0.0  0.0  1.0  1.0  6.0  5.0  6.0  79.0  0.0  6.0  36.0  5.0  0.0  43.0   \n",
       "4  0.0  0.0  0.0  0.0  0.0  6.0  2.0  45.0  0.0  2.0  13.0  6.0  0.0  32.0   \n",
       "\n",
       "    14    15  \n",
       "0  0.0   0.0  \n",
       "1  0.0   0.0  \n",
       "2  0.0   0.0  \n",
       "3  0.0  23.0  \n",
       "4  0.0   0.0  "
      ]
     },
     "execution_count": 30,
     "metadata": {},
     "output_type": "execute_result"
    }
   ],
   "source": [
    "pd.DataFrame(X).head()"
   ]
  },
  {
   "cell_type": "code",
   "execution_count": 31,
   "metadata": {},
   "outputs": [
    {
     "data": {
      "text/html": [
       "<div>\n",
       "<style>\n",
       "    .dataframe thead tr:only-child th {\n",
       "        text-align: right;\n",
       "    }\n",
       "\n",
       "    .dataframe thead th {\n",
       "        text-align: left;\n",
       "    }\n",
       "\n",
       "    .dataframe tbody tr th {\n",
       "        vertical-align: top;\n",
       "    }\n",
       "</style>\n",
       "<table border=\"1\" class=\"dataframe\">\n",
       "  <thead>\n",
       "    <tr style=\"text-align: right;\">\n",
       "      <th></th>\n",
       "      <th>0</th>\n",
       "    </tr>\n",
       "  </thead>\n",
       "  <tbody>\n",
       "    <tr>\n",
       "      <th>0</th>\n",
       "      <td>1.0</td>\n",
       "    </tr>\n",
       "    <tr>\n",
       "      <th>1</th>\n",
       "      <td>0.0</td>\n",
       "    </tr>\n",
       "    <tr>\n",
       "      <th>2</th>\n",
       "      <td>0.0</td>\n",
       "    </tr>\n",
       "    <tr>\n",
       "      <th>3</th>\n",
       "      <td>1.0</td>\n",
       "    </tr>\n",
       "    <tr>\n",
       "      <th>4</th>\n",
       "      <td>0.0</td>\n",
       "    </tr>\n",
       "  </tbody>\n",
       "</table>\n",
       "</div>"
      ],
      "text/plain": [
       "     0\n",
       "0  1.0\n",
       "1  0.0\n",
       "2  0.0\n",
       "3  1.0\n",
       "4  0.0"
      ]
     },
     "execution_count": 31,
     "metadata": {},
     "output_type": "execute_result"
    }
   ],
   "source": [
    "pd.DataFrame(y).head()"
   ]
  },
  {
   "cell_type": "code",
   "execution_count": 32,
   "metadata": {},
   "outputs": [],
   "source": [
    "model = {\"DecisionTree\":tree.DecisionTreeClassifier(max_depth=10),\n",
    "         \"RandomForest\":ensembleLearning.RandomForestClassifier(n_estimators=50),\n",
    "         \"Adaboost\":ensembleLearning.AdaBoostClassifier(n_estimators=50),\n",
    "         \"GradientBoosting\":ensembleLearning.GradientBoostingClassifier(n_estimators=50),\n",
    "         \"GNB\":GaussianNB(),\n",
    "         \"LogisticRegression\":LogisticRegression()\n",
    "}"
   ]
  },
  {
   "cell_type": "code",
   "execution_count": 33,
   "metadata": {},
   "outputs": [],
   "source": [
    "X_train, X_test, y_train, y_test = cross_validation.train_test_split(X, y ,test_size=0.2)"
   ]
  },
  {
   "cell_type": "code",
   "execution_count": 34,
   "metadata": {},
   "outputs": [
    {
     "name": "stdout",
     "output_type": "stream",
     "text": [
      "DecisionTree : 0.888 \n",
      "RandomForest : 0.901285714286 \n",
      "Adaboost : 0.876142857143 \n",
      "GradientBoosting : 0.877857142857 \n",
      "GNB : 0.768428571429 \n",
      "LogisticRegression : 0.821714285714 \n"
     ]
    }
   ],
   "source": [
    "results = {}\n",
    "for algo in model:\n",
    "    clf = model[algo]\n",
    "    clf.fit(X_train,y_train)\n",
    "    score = clf.score(X_test,y_test)\n",
    "    print (\"%s : %s \" %(algo, score))\n",
    "    results[algo] = score"
   ]
  },
  {
   "cell_type": "code",
   "execution_count": 35,
   "metadata": {},
   "outputs": [
    {
     "name": "stdout",
     "output_type": "stream",
     "text": [
      "RandomForest\n"
     ]
    }
   ],
   "source": [
    "winner = max(results, key=results.get)\n",
    "print(winner)"
   ]
  },
  {
   "cell_type": "code",
   "execution_count": 36,
   "metadata": {},
   "outputs": [
    {
     "name": "stdout",
     "output_type": "stream",
     "text": [
      "False positive rate : 2.655281 %\n",
      "False negative rate : 6.284214 %\n"
     ]
    }
   ],
   "source": [
    "clf = model[winner]\n",
    "res = clf.predict(X)\n",
    "mt = confusion_matrix(y, res)\n",
    "print(\"False positive rate : %f %%\" % ((mt[0][1] / float(sum(mt[0])))*100))\n",
    "print('False negative rate : %f %%' % ( (mt[1][0] / float(sum(mt[1]))*100)))"
   ]
  },
  {
   "cell_type": "code",
   "execution_count": null,
   "metadata": {},
   "outputs": [],
   "source": []
  },
  {
   "cell_type": "code",
   "execution_count": null,
   "metadata": {},
   "outputs": [],
   "source": []
  },
  {
   "cell_type": "code",
   "execution_count": null,
   "metadata": {},
   "outputs": [],
   "source": []
  },
  {
   "cell_type": "code",
   "execution_count": null,
   "metadata": {},
   "outputs": [],
   "source": []
  },
  {
   "cell_type": "code",
   "execution_count": null,
   "metadata": {},
   "outputs": [],
   "source": []
  },
  {
   "cell_type": "code",
   "execution_count": null,
   "metadata": {},
   "outputs": [],
   "source": []
  },
  {
   "cell_type": "code",
   "execution_count": null,
   "metadata": {},
   "outputs": [],
   "source": []
  },
  {
   "cell_type": "code",
   "execution_count": 37,
   "metadata": {},
   "outputs": [
    {
     "data": {
      "text/plain": [
       "35000"
      ]
     },
     "execution_count": 37,
     "metadata": {},
     "output_type": "execute_result"
    }
   ],
   "source": [
    "len(url)"
   ]
  },
  {
   "cell_type": "code",
   "execution_count": null,
   "metadata": {},
   "outputs": [],
   "source": [
    "#features_and_labels = make_feature_vector(from_index, url, label)\n",
    "\n",
    "#df_features_and_labels = pd.DataFrame(features_and_labels)\n",
    "#df_features_and_labels.head()"
   ]
  },
  {
   "cell_type": "code",
   "execution_count": null,
   "metadata": {},
   "outputs": [],
   "source": [
    "#len(features_and_labels)"
   ]
  },
  {
   "cell_type": "code",
   "execution_count": null,
   "metadata": {},
   "outputs": [],
   "source": [
    "#features_and_labels = np.array(features_and_labels)\n",
    "#random.shuffle(features_and_labels)\n",
    "\n",
    "#cut = int(len(features_and_labels) * cut_ratio)\n",
    "#XY_train = features_and_labels[:cut]\n",
    "#XY_test = features_and_labels[cut:]"
   ]
  },
  {
   "cell_type": "code",
   "execution_count": null,
   "metadata": {},
   "outputs": [],
   "source": [
    "#df_features_and_labels = pd.DataFrame(features_and_labels)\n",
    "#df_features_and_labels.head()"
   ]
  },
  {
   "cell_type": "code",
   "execution_count": null,
   "metadata": {},
   "outputs": [],
   "source": [
    "#X_train, Y_train = make_np_array_XY(XY_train)\n",
    "#X_test, Y_test = make_np_array_XY(XY_test)"
   ]
  },
  {
   "cell_type": "code",
   "execution_count": null,
   "metadata": {},
   "outputs": [],
   "source": [
    "#pd.DataFrame(X_train).head()"
   ]
  },
  {
   "cell_type": "code",
   "execution_count": null,
   "metadata": {},
   "outputs": [],
   "source": [
    "#pd.DataFrame(Y_train).head()"
   ]
  },
  {
   "cell_type": "code",
   "execution_count": null,
   "metadata": {},
   "outputs": [],
   "source": [
    "#len(X_train)"
   ]
  },
  {
   "cell_type": "code",
   "execution_count": null,
   "metadata": {},
   "outputs": [],
   "source": [
    "#len(Y_train)"
   ]
  },
  {
   "cell_type": "code",
   "execution_count": 38,
   "metadata": {},
   "outputs": [],
   "source": [
    "#SVM SVC Classifier with Linear Kernel\n",
    "C = 1.0  # SVM regularization parameter\n",
    "svc = svm.SVC(kernel = 'linear', C = C).fit(X_train, y_train)"
   ]
  },
  {
   "cell_type": "code",
   "execution_count": 39,
   "metadata": {},
   "outputs": [
    {
     "data": {
      "text/html": [
       "<div>\n",
       "<style>\n",
       "    .dataframe thead tr:only-child th {\n",
       "        text-align: right;\n",
       "    }\n",
       "\n",
       "    .dataframe thead th {\n",
       "        text-align: left;\n",
       "    }\n",
       "\n",
       "    .dataframe tbody tr th {\n",
       "        vertical-align: top;\n",
       "    }\n",
       "</style>\n",
       "<table border=\"1\" class=\"dataframe\">\n",
       "  <thead>\n",
       "    <tr style=\"text-align: right;\">\n",
       "      <th></th>\n",
       "      <th>0</th>\n",
       "    </tr>\n",
       "  </thead>\n",
       "  <tbody>\n",
       "    <tr>\n",
       "      <th>0</th>\n",
       "      <td>0.0</td>\n",
       "    </tr>\n",
       "    <tr>\n",
       "      <th>1</th>\n",
       "      <td>1.0</td>\n",
       "    </tr>\n",
       "    <tr>\n",
       "      <th>2</th>\n",
       "      <td>1.0</td>\n",
       "    </tr>\n",
       "    <tr>\n",
       "      <th>3</th>\n",
       "      <td>0.0</td>\n",
       "    </tr>\n",
       "    <tr>\n",
       "      <th>4</th>\n",
       "      <td>0.0</td>\n",
       "    </tr>\n",
       "  </tbody>\n",
       "</table>\n",
       "</div>"
      ],
      "text/plain": [
       "     0\n",
       "0  0.0\n",
       "1  1.0\n",
       "2  1.0\n",
       "3  0.0\n",
       "4  0.0"
      ]
     },
     "execution_count": 39,
     "metadata": {},
     "output_type": "execute_result"
    }
   ],
   "source": [
    "# Predicted Label\n",
    "Y_predict = svc.predict(X_test)\n",
    "(pd.DataFrame(Y_predict)).head()"
   ]
  },
  {
   "cell_type": "code",
   "execution_count": 40,
   "metadata": {},
   "outputs": [
    {
     "data": {
      "text/html": [
       "<div>\n",
       "<style>\n",
       "    .dataframe thead tr:only-child th {\n",
       "        text-align: right;\n",
       "    }\n",
       "\n",
       "    .dataframe thead th {\n",
       "        text-align: left;\n",
       "    }\n",
       "\n",
       "    .dataframe tbody tr th {\n",
       "        vertical-align: top;\n",
       "    }\n",
       "</style>\n",
       "<table border=\"1\" class=\"dataframe\">\n",
       "  <thead>\n",
       "    <tr style=\"text-align: right;\">\n",
       "      <th></th>\n",
       "      <th>0</th>\n",
       "    </tr>\n",
       "  </thead>\n",
       "  <tbody>\n",
       "    <tr>\n",
       "      <th>0</th>\n",
       "      <td>1.0</td>\n",
       "    </tr>\n",
       "    <tr>\n",
       "      <th>1</th>\n",
       "      <td>1.0</td>\n",
       "    </tr>\n",
       "    <tr>\n",
       "      <th>2</th>\n",
       "      <td>1.0</td>\n",
       "    </tr>\n",
       "    <tr>\n",
       "      <th>3</th>\n",
       "      <td>0.0</td>\n",
       "    </tr>\n",
       "    <tr>\n",
       "      <th>4</th>\n",
       "      <td>0.0</td>\n",
       "    </tr>\n",
       "  </tbody>\n",
       "</table>\n",
       "</div>"
      ],
      "text/plain": [
       "     0\n",
       "0  1.0\n",
       "1  1.0\n",
       "2  1.0\n",
       "3  0.0\n",
       "4  0.0"
      ]
     },
     "execution_count": 40,
     "metadata": {},
     "output_type": "execute_result"
    }
   ],
   "source": [
    "# Actual Label\n",
    "(pd.DataFrame(y_test)).head()"
   ]
  },
  {
   "cell_type": "code",
   "execution_count": 42,
   "metadata": {},
   "outputs": [
    {
     "name": "stdout",
     "output_type": "stream",
     "text": [
      "Got 5756 out of 7000\n",
      "f1 = 0.81\n",
      "precision = 0.89\n",
      "recall = 0.75\n",
      "accuracy = 0.82\n"
     ]
    },
    {
     "data": {
      "image/png": "[encoded data removed]",
      "text/plain": [
       "<matplotlib.figure.Figure at 0xd30c0f0>"
      ]
     },
     "metadata": {},
     "output_type": "display_data"
    }
   ],
   "source": [
    "#test_size = len(Y_test)\n",
    "#print('Got %s out of %s' % (score, test_size))\n",
    "#print('f1 = %.2f' % (f1_score(Y_test, Y_predict, average = 'weighted')))\n",
    "#print('precision = %.2f' % (precision_score(Y_test, Y_predict, average = 'weighted')))\n",
    "#print('recall = %.2f' % (recall_score(Y_test, Y_predict, average = 'weighted')))\n",
    "#print('accuracy = %.2f' % (accuracy_score(Y_test, Y_predict)))\n",
    "\n",
    "#f1_score(Y_test, Y_predict, average = 'weighted')\n",
    "get_f1_score(y_test, Y_predict, \"Various Performance Measures for SVM SVC Classifier with Linear Kernel\")"
   ]
  },
  {
   "cell_type": "code",
   "execution_count": null,
   "metadata": {},
   "outputs": [],
   "source": []
  }
 ],
 "metadata": {
  "kernelspec": {
   "display_name": "Python 3",
   "language": "python",
   "name": "python3"
  },
  "language_info": {
   "codemirror_mode": {
    "name": "ipython",
    "version": 3
   },
   "file_extension": ".py",
   "mimetype": "text/x-python",
   "name": "python",
   "nbconvert_exporter": "python",
   "pygments_lexer": "ipython3",
   "version": "3.6.2"
  }
 },
 "nbformat": 4,
 "nbformat_minor": 2
}
