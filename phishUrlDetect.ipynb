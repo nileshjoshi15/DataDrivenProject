{
 "cells": [
  {
   "cell_type": "code",
   "execution_count": 164,
   "metadata": {},
   "outputs": [],
   "source": [
    "import pandas as pd"
   ]
  },
  {
   "cell_type": "code",
   "execution_count": 218,
   "metadata": {},
   "outputs": [],
   "source": [
    "phish_data = pd.read_json('../data/phishTankData.json')"
   ]
  },
  {
   "cell_type": "code",
   "execution_count": 219,
   "metadata": {},
   "outputs": [],
   "source": [
    "phish_data['forward_slash_count'] = phish_data[\"url\"].str.count('/')\n",
    "phish_data['dot_count'] = phish_data[\"url\"].str.count('.')"
   ]
  },
  {
   "cell_type": "code",
   "execution_count": 220,
   "metadata": {},
   "outputs": [],
   "source": [
    "phish_data['domain'] = phish_data['url'].apply(lambda x: x[:x.find('/',8)])\n",
    "phish_data['path'] = phish_data['url'].apply(lambda x: x[x.find('/',8):])"
   ]
  },
  {
   "cell_type": "code",
   "execution_count": 221,
   "metadata": {},
   "outputs": [],
   "source": [
    "phish_data['d_dot_count'] = phish_data['domain'].str.count('[.]')"
   ]
  },
  {
   "cell_type": "code",
   "execution_count": 222,
   "metadata": {},
   "outputs": [],
   "source": [
    "phish_data['p_dot_count'] = phish_data[\"path\"].str.count('[.]')"
   ]
  },
  {
   "cell_type": "code",
   "execution_count": 223,
   "metadata": {},
   "outputs": [],
   "source": [
    "phish_data['d_fslash_count'] = phish_data[\"domain\"].str.count('/')"
   ]
  },
  {
   "cell_type": "code",
   "execution_count": 224,
   "metadata": {},
   "outputs": [],
   "source": [
    "phish_data['p_fslash_count'] = phish_data[\"path\"].str.count('/')"
   ]
  },
  {
   "cell_type": "code",
   "execution_count": 225,
   "metadata": {},
   "outputs": [],
   "source": [
    "phish_data = phish_data[['url','domain','path','d_dot_count','p_dot_count','d_fslash_count','p_fslash_count']]"
   ]
  },
  {
   "cell_type": "code",
   "execution_count": 236,
   "metadata": {},
   "outputs": [],
   "source": [
    "phish_data['d_len'] = phish_data['domain'].str.len()\n",
    "phish_data['p_len'] = phish_data['path'].str.len()\n",
    "phish_data['count_digits'] = phish_data['domain'].str.count(r'\\d')\n",
    "\n"
   ]
  },
  {
   "cell_type": "code",
   "execution_count": 237,
   "metadata": {},
   "outputs": [
    {
     "data": {
      "text/html": [
       "<div>\n",
       "<style scoped>\n",
       "    .dataframe tbody tr th:only-of-type {\n",
       "        vertical-align: middle;\n",
       "    }\n",
       "\n",
       "    .dataframe tbody tr th {\n",
       "        vertical-align: top;\n",
       "    }\n",
       "\n",
       "    .dataframe thead th {\n",
       "        text-align: right;\n",
       "    }\n",
       "</style>\n",
       "<table border=\"1\" class=\"dataframe\">\n",
       "  <thead>\n",
       "    <tr style=\"text-align: right;\">\n",
       "      <th></th>\n",
       "      <th>url</th>\n",
       "      <th>domain</th>\n",
       "      <th>path</th>\n",
       "      <th>d_dot_count</th>\n",
       "      <th>p_dot_count</th>\n",
       "      <th>d_fslash_count</th>\n",
       "      <th>p_fslash_count</th>\n",
       "      <th>d_len</th>\n",
       "      <th>p_len</th>\n",
       "      <th>count_digits</th>\n",
       "    </tr>\n",
       "  </thead>\n",
       "  <tbody>\n",
       "    <tr>\n",
       "      <th>0</th>\n",
       "      <td>http://xploitperbuild.com/outlook365/fresh/err...</td>\n",
       "      <td>http://xploitperbuild.com</td>\n",
       "      <td>/outlook365/fresh/error.php</td>\n",
       "      <td>1</td>\n",
       "      <td>1</td>\n",
       "      <td>2</td>\n",
       "      <td>3</td>\n",
       "      <td>25</td>\n",
       "      <td>27</td>\n",
       "      <td>0</td>\n",
       "    </tr>\n",
       "    <tr>\n",
       "      <th>1</th>\n",
       "      <td>http://xploitperbuild.com/outlook365/fresh/pas...</td>\n",
       "      <td>http://xploitperbuild.com</td>\n",
       "      <td>/outlook365/fresh/pass.php</td>\n",
       "      <td>1</td>\n",
       "      <td>1</td>\n",
       "      <td>2</td>\n",
       "      <td>3</td>\n",
       "      <td>25</td>\n",
       "      <td>26</td>\n",
       "      <td>0</td>\n",
       "    </tr>\n",
       "    <tr>\n",
       "      <th>2</th>\n",
       "      <td>http://www.createdbymandyb.com/images/bohedi/k...</td>\n",
       "      <td>http://www.createdbymandyb.com</td>\n",
       "      <td>/images/bohedi/koki/</td>\n",
       "      <td>2</td>\n",
       "      <td>0</td>\n",
       "      <td>2</td>\n",
       "      <td>4</td>\n",
       "      <td>30</td>\n",
       "      <td>20</td>\n",
       "      <td>0</td>\n",
       "    </tr>\n",
       "    <tr>\n",
       "      <th>3</th>\n",
       "      <td>http://paypal.co.uk.avr2.pw/m/</td>\n",
       "      <td>http://paypal.co.uk.avr2.pw</td>\n",
       "      <td>/m/</td>\n",
       "      <td>4</td>\n",
       "      <td>0</td>\n",
       "      <td>2</td>\n",
       "      <td>2</td>\n",
       "      <td>27</td>\n",
       "      <td>3</td>\n",
       "      <td>1</td>\n",
       "    </tr>\n",
       "    <tr>\n",
       "      <th>4</th>\n",
       "      <td>https://schwab.000webhostapp.com/wp-admin/schw...</td>\n",
       "      <td>https://schwab.000webhostapp.com</td>\n",
       "      <td>/wp-admin/schwab/home/step2.php?cmd=login_subm...</td>\n",
       "      <td>2</td>\n",
       "      <td>1</td>\n",
       "      <td>2</td>\n",
       "      <td>4</td>\n",
       "      <td>32</td>\n",
       "      <td>69</td>\n",
       "      <td>3</td>\n",
       "    </tr>\n",
       "  </tbody>\n",
       "</table>\n",
       "</div>"
      ],
      "text/plain": [
       "                                                 url  \\\n",
       "0  http://xploitperbuild.com/outlook365/fresh/err...   \n",
       "1  http://xploitperbuild.com/outlook365/fresh/pas...   \n",
       "2  http://www.createdbymandyb.com/images/bohedi/k...   \n",
       "3                     http://paypal.co.uk.avr2.pw/m/   \n",
       "4  https://schwab.000webhostapp.com/wp-admin/schw...   \n",
       "\n",
       "                             domain  \\\n",
       "0         http://xploitperbuild.com   \n",
       "1         http://xploitperbuild.com   \n",
       "2    http://www.createdbymandyb.com   \n",
       "3       http://paypal.co.uk.avr2.pw   \n",
       "4  https://schwab.000webhostapp.com   \n",
       "\n",
       "                                                path  d_dot_count  \\\n",
       "0                        /outlook365/fresh/error.php            1   \n",
       "1                         /outlook365/fresh/pass.php            1   \n",
       "2                               /images/bohedi/koki/            2   \n",
       "3                                                /m/            4   \n",
       "4  /wp-admin/schwab/home/step2.php?cmd=login_subm...            2   \n",
       "\n",
       "   p_dot_count  d_fslash_count  p_fslash_count  d_len  p_len  count_digits  \n",
       "0            1               2               3     25     27             0  \n",
       "1            1               2               3     25     26             0  \n",
       "2            0               2               4     30     20             0  \n",
       "3            0               2               2     27      3             1  \n",
       "4            1               2               4     32     69             3  "
      ]
     },
     "execution_count": 237,
     "metadata": {},
     "output_type": "execute_result"
    }
   ],
   "source": [
    "phish_data.head()"
   ]
  },
  {
   "cell_type": "code",
   "execution_count": 229,
   "metadata": {},
   "outputs": [],
   "source": [
    "dmoz_data = pd.read_csv('../data/dmoz.csv')"
   ]
  },
  {
   "cell_type": "code",
   "execution_count": 230,
   "metadata": {},
   "outputs": [
    {
     "data": {
      "text/html": [
       "<div>\n",
       "<style scoped>\n",
       "    .dataframe tbody tr th:only-of-type {\n",
       "        vertical-align: middle;\n",
       "    }\n",
       "\n",
       "    .dataframe tbody tr th {\n",
       "        vertical-align: top;\n",
       "    }\n",
       "\n",
       "    .dataframe thead th {\n",
       "        text-align: right;\n",
       "    }\n",
       "</style>\n",
       "<table border=\"1\" class=\"dataframe\">\n",
       "  <thead>\n",
       "    <tr style=\"text-align: right;\">\n",
       "      <th></th>\n",
       "      <th>domain</th>\n",
       "      <th>cat_labels_en</th>\n",
       "    </tr>\n",
       "  </thead>\n",
       "  <tbody>\n",
       "    <tr>\n",
       "      <th>0</th>\n",
       "      <td>sdcastroverde.com</td>\n",
       "      <td>Top/World/Galego/regional/Galicia/Lugo/municip...</td>\n",
       "    </tr>\n",
       "    <tr>\n",
       "      <th>1</th>\n",
       "      <td>www.232analyzer.com</td>\n",
       "      <td>Top/Computers/Hardware/Test_Equipment/Analyzers</td>\n",
       "    </tr>\n",
       "    <tr>\n",
       "      <th>2</th>\n",
       "      <td>zschachwitz-tischtennis.de</td>\n",
       "      <td>Top/World/Deutsch/Sport/ball_Sports/table_tenn...</td>\n",
       "    </tr>\n",
       "    <tr>\n",
       "      <th>3</th>\n",
       "      <td>www.penguin.cz</td>\n",
       "      <td>Top/World/Česky/Computers/Software/Operating_s...</td>\n",
       "    </tr>\n",
       "    <tr>\n",
       "      <th>4</th>\n",
       "      <td>www.cs-interiors.co.uk</td>\n",
       "      <td>Top/Business/Construction_and_Maintenance/Mate...</td>\n",
       "    </tr>\n",
       "  </tbody>\n",
       "</table>\n",
       "</div>"
      ],
      "text/plain": [
       "                       domain  \\\n",
       "0           sdcastroverde.com   \n",
       "1         www.232analyzer.com   \n",
       "2  zschachwitz-tischtennis.de   \n",
       "3              www.penguin.cz   \n",
       "4      www.cs-interiors.co.uk   \n",
       "\n",
       "                                       cat_labels_en  \n",
       "0  Top/World/Galego/regional/Galicia/Lugo/municip...  \n",
       "1    Top/Computers/Hardware/Test_Equipment/Analyzers  \n",
       "2  Top/World/Deutsch/Sport/ball_Sports/table_tenn...  \n",
       "3  Top/World/Česky/Computers/Software/Operating_s...  \n",
       "4  Top/Business/Construction_and_Maintenance/Mate...  "
      ]
     },
     "execution_count": 230,
     "metadata": {},
     "output_type": "execute_result"
    }
   ],
   "source": [
    "dmoz_data.head()"
   ]
  },
  {
   "cell_type": "code",
   "execution_count": 231,
   "metadata": {},
   "outputs": [],
   "source": [
    "dmoz_data['d_dot_count'] = dmoz_data['domain'].str.count('[.]')"
   ]
  },
  {
   "cell_type": "code",
   "execution_count": 232,
   "metadata": {},
   "outputs": [],
   "source": [
    "dmoz_data['d_fslash_count'] = dmoz_data[\"domain\"].str.count('/')"
   ]
  },
  {
   "cell_type": "code",
   "execution_count": 238,
   "metadata": {},
   "outputs": [],
   "source": [
    "dmoz_data['d_len'] = dmoz_data['domain'].str.len()\n",
    "dmoz_data['count_digits'] = dmoz_data['domain'].str.count(r'\\d')"
   ]
  },
  {
   "cell_type": "code",
   "execution_count": 239,
   "metadata": {},
   "outputs": [
    {
     "data": {
      "text/html": [
       "<div>\n",
       "<style scoped>\n",
       "    .dataframe tbody tr th:only-of-type {\n",
       "        vertical-align: middle;\n",
       "    }\n",
       "\n",
       "    .dataframe tbody tr th {\n",
       "        vertical-align: top;\n",
       "    }\n",
       "\n",
       "    .dataframe thead th {\n",
       "        text-align: right;\n",
       "    }\n",
       "</style>\n",
       "<table border=\"1\" class=\"dataframe\">\n",
       "  <thead>\n",
       "    <tr style=\"text-align: right;\">\n",
       "      <th></th>\n",
       "      <th>domain</th>\n",
       "      <th>cat_labels_en</th>\n",
       "      <th>d_dot_count</th>\n",
       "      <th>d_fslash_count</th>\n",
       "      <th>d_len</th>\n",
       "      <th>count_digits</th>\n",
       "    </tr>\n",
       "  </thead>\n",
       "  <tbody>\n",
       "    <tr>\n",
       "      <th>0</th>\n",
       "      <td>sdcastroverde.com</td>\n",
       "      <td>Top/World/Galego/regional/Galicia/Lugo/municip...</td>\n",
       "      <td>1</td>\n",
       "      <td>0</td>\n",
       "      <td>17</td>\n",
       "      <td>0</td>\n",
       "    </tr>\n",
       "    <tr>\n",
       "      <th>1</th>\n",
       "      <td>www.232analyzer.com</td>\n",
       "      <td>Top/Computers/Hardware/Test_Equipment/Analyzers</td>\n",
       "      <td>2</td>\n",
       "      <td>0</td>\n",
       "      <td>19</td>\n",
       "      <td>3</td>\n",
       "    </tr>\n",
       "    <tr>\n",
       "      <th>2</th>\n",
       "      <td>zschachwitz-tischtennis.de</td>\n",
       "      <td>Top/World/Deutsch/Sport/ball_Sports/table_tenn...</td>\n",
       "      <td>1</td>\n",
       "      <td>0</td>\n",
       "      <td>26</td>\n",
       "      <td>0</td>\n",
       "    </tr>\n",
       "    <tr>\n",
       "      <th>3</th>\n",
       "      <td>www.penguin.cz</td>\n",
       "      <td>Top/World/Česky/Computers/Software/Operating_s...</td>\n",
       "      <td>2</td>\n",
       "      <td>0</td>\n",
       "      <td>14</td>\n",
       "      <td>0</td>\n",
       "    </tr>\n",
       "    <tr>\n",
       "      <th>4</th>\n",
       "      <td>www.cs-interiors.co.uk</td>\n",
       "      <td>Top/Business/Construction_and_Maintenance/Mate...</td>\n",
       "      <td>3</td>\n",
       "      <td>0</td>\n",
       "      <td>22</td>\n",
       "      <td>0</td>\n",
       "    </tr>\n",
       "  </tbody>\n",
       "</table>\n",
       "</div>"
      ],
      "text/plain": [
       "                       domain  \\\n",
       "0           sdcastroverde.com   \n",
       "1         www.232analyzer.com   \n",
       "2  zschachwitz-tischtennis.de   \n",
       "3              www.penguin.cz   \n",
       "4      www.cs-interiors.co.uk   \n",
       "\n",
       "                                       cat_labels_en  d_dot_count  \\\n",
       "0  Top/World/Galego/regional/Galicia/Lugo/municip...            1   \n",
       "1    Top/Computers/Hardware/Test_Equipment/Analyzers            2   \n",
       "2  Top/World/Deutsch/Sport/ball_Sports/table_tenn...            1   \n",
       "3  Top/World/Česky/Computers/Software/Operating_s...            2   \n",
       "4  Top/Business/Construction_and_Maintenance/Mate...            3   \n",
       "\n",
       "   d_fslash_count  d_len  count_digits  \n",
       "0               0     17             0  \n",
       "1               0     19             3  \n",
       "2               0     26             0  \n",
       "3               0     14             0  \n",
       "4               0     22             0  "
      ]
     },
     "execution_count": 239,
     "metadata": {},
     "output_type": "execute_result"
    }
   ],
   "source": [
    "dmoz_data.head()"
   ]
  },
  {
   "cell_type": "code",
   "execution_count": null,
   "metadata": {},
   "outputs": [],
   "source": []
  }
 ],
 "metadata": {
  "kernelspec": {
   "display_name": "Python 3",
   "language": "python",
   "name": "python3"
  },
  "language_info": {
   "codemirror_mode": {
    "name": "ipython",
    "version": 3
   },
   "file_extension": ".py",
   "mimetype": "text/x-python",
   "name": "python",
   "nbconvert_exporter": "python",
   "pygments_lexer": "ipython3",
   "version": "3.6.5"
  }
 },
 "nbformat": 4,
 "nbformat_minor": 2
}
